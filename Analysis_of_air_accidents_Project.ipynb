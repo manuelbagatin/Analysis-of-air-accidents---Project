{
  "nbformat": 4,
  "nbformat_minor": 0,
  "metadata": {
    "colab": {
      "provenance": [],
      "collapsed_sections": [
        "6XPsmDnO0a6e",
        "iHEshOKNbIi3",
        "cMpQ9pqHBFZk",
        "qKGQIAwQ-VEI",
        "kROYi6hQARX5",
        "mNbJ1JsrrGtW",
        "fHbgirFCqsHc",
        "3RK5pdQDKwLo"
      ]
    },
    "kernelspec": {
      "name": "python3",
      "display_name": "Python 3"
    },
    "language_info": {
      "name": "python"
    }
  },
  "cells": [
    {
      "cell_type": "markdown",
      "source": [
        "**Analysis of air accidents**"
      ],
      "metadata": {
        "id": "MBj6nxqcnek7"
      }
    },
    {
      "cell_type": "code",
      "execution_count": 1,
      "metadata": {
        "id": "5dXFESysdx52"
      },
      "outputs": [],
      "source": [
        "import pandas as pd\n",
        "import matplotlib.pyplot as plt\n",
        "from datetime import datetime"
      ]
    },
    {
      "cell_type": "code",
      "source": [
        "df = pd.read_csv(\"/content/aviation-accidents.csv\") # Import the DataFrame and first look\n",
        "df"
      ],
      "metadata": {
        "colab": {
          "base_uri": "https://localhost:8080/",
          "height": 423
        },
        "id": "qvy9ruiGd8Uv",
        "outputId": "9720bfe0-bd2d-4194-bd7f-1ee374a83650"
      },
      "execution_count": 2,
      "outputs": [
        {
          "output_type": "execute_result",
          "data": {
            "text/plain": [
              "              date                       type registration  \\\n",
              "0        date unk.             Antonov An-12B       T-1206   \n",
              "1        date unk.             Antonov An-12B       T-1204   \n",
              "2        date unk.             Antonov An-12B       T-1201   \n",
              "3        date unk.            Antonov An-12BK          NaN   \n",
              "4        date unk.            Antonov An-12BP   CCCP-11815   \n",
              "...            ...                        ...          ...   \n",
              "23962  11-MAY-2023               Hawker 900XP       PK-LRU   \n",
              "23963  11-MAY-2023  Cessna 208B Grand Caravan       PK-NGA   \n",
              "23964  12-MAY-2023  Cessna 208B Grand Caravan       5X-RBR   \n",
              "23965  14-MAY-2023            Boeing 747-4R7F       LX-OCV   \n",
              "23966  15-MAY-2023                Learjet 35A       D-CGFQ   \n",
              "\n",
              "                     operator fatalities             location  \\\n",
              "0               Indonesian AF        NaN                  NaN   \n",
              "1               Indonesian AF        NaN                  NaN   \n",
              "2               Indonesian AF        NaN                  NaN   \n",
              "3                   Soviet AF        NaN  Tiksi Airport (IKS)   \n",
              "4                   Soviet AF          0  Massawa Airport ...   \n",
              "...                       ...        ...                  ...   \n",
              "23962  Angkasa Super Services          0  Maleo Airport (MOH)   \n",
              "23963  Nasional Global Aviasi          0    Fentheik Airstrip   \n",
              "23964            Bar Aviation          0  Kampala-Kajjansi...   \n",
              "23965                Cargolux          0  Luxembourg-Finde...   \n",
              "23966                     GFD          2        Hohn Air Base   \n",
              "\n",
              "               country cat     year  \n",
              "0      Unknown country  U1  unknown  \n",
              "1      Unknown country  U1  unknown  \n",
              "2      Unknown country  U1  unknown  \n",
              "3               Russia  A1  unknown  \n",
              "4              Eritrea  A1  unknown  \n",
              "...                ...  ..      ...  \n",
              "23962        Indonesia  A2     2023  \n",
              "23963        Indonesia  A2     2023  \n",
              "23964           Uganda  A1     2023  \n",
              "23965       Luxembourg  A2     2023  \n",
              "23966          Germany  A1     2023  \n",
              "\n",
              "[23967 rows x 9 columns]"
            ],
            "text/html": [
              "\n",
              "  <div id=\"df-cb3af60f-d0a2-44bc-bbdb-f1ec463a47d8\" class=\"colab-df-container\">\n",
              "    <div>\n",
              "<style scoped>\n",
              "    .dataframe tbody tr th:only-of-type {\n",
              "        vertical-align: middle;\n",
              "    }\n",
              "\n",
              "    .dataframe tbody tr th {\n",
              "        vertical-align: top;\n",
              "    }\n",
              "\n",
              "    .dataframe thead th {\n",
              "        text-align: right;\n",
              "    }\n",
              "</style>\n",
              "<table border=\"1\" class=\"dataframe\">\n",
              "  <thead>\n",
              "    <tr style=\"text-align: right;\">\n",
              "      <th></th>\n",
              "      <th>date</th>\n",
              "      <th>type</th>\n",
              "      <th>registration</th>\n",
              "      <th>operator</th>\n",
              "      <th>fatalities</th>\n",
              "      <th>location</th>\n",
              "      <th>country</th>\n",
              "      <th>cat</th>\n",
              "      <th>year</th>\n",
              "    </tr>\n",
              "  </thead>\n",
              "  <tbody>\n",
              "    <tr>\n",
              "      <th>0</th>\n",
              "      <td>date unk.</td>\n",
              "      <td>Antonov An-12B</td>\n",
              "      <td>T-1206</td>\n",
              "      <td>Indonesian AF</td>\n",
              "      <td>NaN</td>\n",
              "      <td>NaN</td>\n",
              "      <td>Unknown country</td>\n",
              "      <td>U1</td>\n",
              "      <td>unknown</td>\n",
              "    </tr>\n",
              "    <tr>\n",
              "      <th>1</th>\n",
              "      <td>date unk.</td>\n",
              "      <td>Antonov An-12B</td>\n",
              "      <td>T-1204</td>\n",
              "      <td>Indonesian AF</td>\n",
              "      <td>NaN</td>\n",
              "      <td>NaN</td>\n",
              "      <td>Unknown country</td>\n",
              "      <td>U1</td>\n",
              "      <td>unknown</td>\n",
              "    </tr>\n",
              "    <tr>\n",
              "      <th>2</th>\n",
              "      <td>date unk.</td>\n",
              "      <td>Antonov An-12B</td>\n",
              "      <td>T-1201</td>\n",
              "      <td>Indonesian AF</td>\n",
              "      <td>NaN</td>\n",
              "      <td>NaN</td>\n",
              "      <td>Unknown country</td>\n",
              "      <td>U1</td>\n",
              "      <td>unknown</td>\n",
              "    </tr>\n",
              "    <tr>\n",
              "      <th>3</th>\n",
              "      <td>date unk.</td>\n",
              "      <td>Antonov An-12BK</td>\n",
              "      <td>NaN</td>\n",
              "      <td>Soviet AF</td>\n",
              "      <td>NaN</td>\n",
              "      <td>Tiksi Airport (IKS)</td>\n",
              "      <td>Russia</td>\n",
              "      <td>A1</td>\n",
              "      <td>unknown</td>\n",
              "    </tr>\n",
              "    <tr>\n",
              "      <th>4</th>\n",
              "      <td>date unk.</td>\n",
              "      <td>Antonov An-12BP</td>\n",
              "      <td>CCCP-11815</td>\n",
              "      <td>Soviet AF</td>\n",
              "      <td>0</td>\n",
              "      <td>Massawa Airport ...</td>\n",
              "      <td>Eritrea</td>\n",
              "      <td>A1</td>\n",
              "      <td>unknown</td>\n",
              "    </tr>\n",
              "    <tr>\n",
              "      <th>...</th>\n",
              "      <td>...</td>\n",
              "      <td>...</td>\n",
              "      <td>...</td>\n",
              "      <td>...</td>\n",
              "      <td>...</td>\n",
              "      <td>...</td>\n",
              "      <td>...</td>\n",
              "      <td>...</td>\n",
              "      <td>...</td>\n",
              "    </tr>\n",
              "    <tr>\n",
              "      <th>23962</th>\n",
              "      <td>11-MAY-2023</td>\n",
              "      <td>Hawker 900XP</td>\n",
              "      <td>PK-LRU</td>\n",
              "      <td>Angkasa Super Services</td>\n",
              "      <td>0</td>\n",
              "      <td>Maleo Airport (MOH)</td>\n",
              "      <td>Indonesia</td>\n",
              "      <td>A2</td>\n",
              "      <td>2023</td>\n",
              "    </tr>\n",
              "    <tr>\n",
              "      <th>23963</th>\n",
              "      <td>11-MAY-2023</td>\n",
              "      <td>Cessna 208B Grand Caravan</td>\n",
              "      <td>PK-NGA</td>\n",
              "      <td>Nasional Global Aviasi</td>\n",
              "      <td>0</td>\n",
              "      <td>Fentheik Airstrip</td>\n",
              "      <td>Indonesia</td>\n",
              "      <td>A2</td>\n",
              "      <td>2023</td>\n",
              "    </tr>\n",
              "    <tr>\n",
              "      <th>23964</th>\n",
              "      <td>12-MAY-2023</td>\n",
              "      <td>Cessna 208B Grand Caravan</td>\n",
              "      <td>5X-RBR</td>\n",
              "      <td>Bar Aviation</td>\n",
              "      <td>0</td>\n",
              "      <td>Kampala-Kajjansi...</td>\n",
              "      <td>Uganda</td>\n",
              "      <td>A1</td>\n",
              "      <td>2023</td>\n",
              "    </tr>\n",
              "    <tr>\n",
              "      <th>23965</th>\n",
              "      <td>14-MAY-2023</td>\n",
              "      <td>Boeing 747-4R7F</td>\n",
              "      <td>LX-OCV</td>\n",
              "      <td>Cargolux</td>\n",
              "      <td>0</td>\n",
              "      <td>Luxembourg-Finde...</td>\n",
              "      <td>Luxembourg</td>\n",
              "      <td>A2</td>\n",
              "      <td>2023</td>\n",
              "    </tr>\n",
              "    <tr>\n",
              "      <th>23966</th>\n",
              "      <td>15-MAY-2023</td>\n",
              "      <td>Learjet 35A</td>\n",
              "      <td>D-CGFQ</td>\n",
              "      <td>GFD</td>\n",
              "      <td>2</td>\n",
              "      <td>Hohn Air Base</td>\n",
              "      <td>Germany</td>\n",
              "      <td>A1</td>\n",
              "      <td>2023</td>\n",
              "    </tr>\n",
              "  </tbody>\n",
              "</table>\n",
              "<p>23967 rows × 9 columns</p>\n",
              "</div>\n",
              "    <div class=\"colab-df-buttons\">\n",
              "\n",
              "  <div class=\"colab-df-container\">\n",
              "    <button class=\"colab-df-convert\" onclick=\"convertToInteractive('df-cb3af60f-d0a2-44bc-bbdb-f1ec463a47d8')\"\n",
              "            title=\"Convert this dataframe to an interactive table.\"\n",
              "            style=\"display:none;\">\n",
              "\n",
              "  <svg xmlns=\"http://www.w3.org/2000/svg\" height=\"24px\" viewBox=\"0 -960 960 960\">\n",
              "    <path d=\"M120-120v-720h720v720H120Zm60-500h600v-160H180v160Zm220 220h160v-160H400v160Zm0 220h160v-160H400v160ZM180-400h160v-160H180v160Zm440 0h160v-160H620v160ZM180-180h160v-160H180v160Zm440 0h160v-160H620v160Z\"/>\n",
              "  </svg>\n",
              "    </button>\n",
              "\n",
              "  <style>\n",
              "    .colab-df-container {\n",
              "      display:flex;\n",
              "      gap: 12px;\n",
              "    }\n",
              "\n",
              "    .colab-df-convert {\n",
              "      background-color: #E8F0FE;\n",
              "      border: none;\n",
              "      border-radius: 50%;\n",
              "      cursor: pointer;\n",
              "      display: none;\n",
              "      fill: #1967D2;\n",
              "      height: 32px;\n",
              "      padding: 0 0 0 0;\n",
              "      width: 32px;\n",
              "    }\n",
              "\n",
              "    .colab-df-convert:hover {\n",
              "      background-color: #E2EBFA;\n",
              "      box-shadow: 0px 1px 2px rgba(60, 64, 67, 0.3), 0px 1px 3px 1px rgba(60, 64, 67, 0.15);\n",
              "      fill: #174EA6;\n",
              "    }\n",
              "\n",
              "    .colab-df-buttons div {\n",
              "      margin-bottom: 4px;\n",
              "    }\n",
              "\n",
              "    [theme=dark] .colab-df-convert {\n",
              "      background-color: #3B4455;\n",
              "      fill: #D2E3FC;\n",
              "    }\n",
              "\n",
              "    [theme=dark] .colab-df-convert:hover {\n",
              "      background-color: #434B5C;\n",
              "      box-shadow: 0px 1px 3px 1px rgba(0, 0, 0, 0.15);\n",
              "      filter: drop-shadow(0px 1px 2px rgba(0, 0, 0, 0.3));\n",
              "      fill: #FFFFFF;\n",
              "    }\n",
              "  </style>\n",
              "\n",
              "    <script>\n",
              "      const buttonEl =\n",
              "        document.querySelector('#df-cb3af60f-d0a2-44bc-bbdb-f1ec463a47d8 button.colab-df-convert');\n",
              "      buttonEl.style.display =\n",
              "        google.colab.kernel.accessAllowed ? 'block' : 'none';\n",
              "\n",
              "      async function convertToInteractive(key) {\n",
              "        const element = document.querySelector('#df-cb3af60f-d0a2-44bc-bbdb-f1ec463a47d8');\n",
              "        const dataTable =\n",
              "          await google.colab.kernel.invokeFunction('convertToInteractive',\n",
              "                                                    [key], {});\n",
              "        if (!dataTable) return;\n",
              "\n",
              "        const docLinkHtml = 'Like what you see? Visit the ' +\n",
              "          '<a target=\"_blank\" href=https://colab.research.google.com/notebooks/data_table.ipynb>data table notebook</a>'\n",
              "          + ' to learn more about interactive tables.';\n",
              "        element.innerHTML = '';\n",
              "        dataTable['output_type'] = 'display_data';\n",
              "        await google.colab.output.renderOutput(dataTable, element);\n",
              "        const docLink = document.createElement('div');\n",
              "        docLink.innerHTML = docLinkHtml;\n",
              "        element.appendChild(docLink);\n",
              "      }\n",
              "    </script>\n",
              "  </div>\n",
              "\n",
              "\n",
              "<div id=\"df-b68b1147-9195-49e4-b810-1998c36892a9\">\n",
              "  <button class=\"colab-df-quickchart\" onclick=\"quickchart('df-b68b1147-9195-49e4-b810-1998c36892a9')\"\n",
              "            title=\"Suggest charts\"\n",
              "            style=\"display:none;\">\n",
              "\n",
              "<svg xmlns=\"http://www.w3.org/2000/svg\" height=\"24px\"viewBox=\"0 0 24 24\"\n",
              "     width=\"24px\">\n",
              "    <g>\n",
              "        <path d=\"M19 3H5c-1.1 0-2 .9-2 2v14c0 1.1.9 2 2 2h14c1.1 0 2-.9 2-2V5c0-1.1-.9-2-2-2zM9 17H7v-7h2v7zm4 0h-2V7h2v10zm4 0h-2v-4h2v4z\"/>\n",
              "    </g>\n",
              "</svg>\n",
              "  </button>\n",
              "\n",
              "<style>\n",
              "  .colab-df-quickchart {\n",
              "      --bg-color: #E8F0FE;\n",
              "      --fill-color: #1967D2;\n",
              "      --hover-bg-color: #E2EBFA;\n",
              "      --hover-fill-color: #174EA6;\n",
              "      --disabled-fill-color: #AAA;\n",
              "      --disabled-bg-color: #DDD;\n",
              "  }\n",
              "\n",
              "  [theme=dark] .colab-df-quickchart {\n",
              "      --bg-color: #3B4455;\n",
              "      --fill-color: #D2E3FC;\n",
              "      --hover-bg-color: #434B5C;\n",
              "      --hover-fill-color: #FFFFFF;\n",
              "      --disabled-bg-color: #3B4455;\n",
              "      --disabled-fill-color: #666;\n",
              "  }\n",
              "\n",
              "  .colab-df-quickchart {\n",
              "    background-color: var(--bg-color);\n",
              "    border: none;\n",
              "    border-radius: 50%;\n",
              "    cursor: pointer;\n",
              "    display: none;\n",
              "    fill: var(--fill-color);\n",
              "    height: 32px;\n",
              "    padding: 0;\n",
              "    width: 32px;\n",
              "  }\n",
              "\n",
              "  .colab-df-quickchart:hover {\n",
              "    background-color: var(--hover-bg-color);\n",
              "    box-shadow: 0 1px 2px rgba(60, 64, 67, 0.3), 0 1px 3px 1px rgba(60, 64, 67, 0.15);\n",
              "    fill: var(--button-hover-fill-color);\n",
              "  }\n",
              "\n",
              "  .colab-df-quickchart-complete:disabled,\n",
              "  .colab-df-quickchart-complete:disabled:hover {\n",
              "    background-color: var(--disabled-bg-color);\n",
              "    fill: var(--disabled-fill-color);\n",
              "    box-shadow: none;\n",
              "  }\n",
              "\n",
              "  .colab-df-spinner {\n",
              "    border: 2px solid var(--fill-color);\n",
              "    border-color: transparent;\n",
              "    border-bottom-color: var(--fill-color);\n",
              "    animation:\n",
              "      spin 1s steps(1) infinite;\n",
              "  }\n",
              "\n",
              "  @keyframes spin {\n",
              "    0% {\n",
              "      border-color: transparent;\n",
              "      border-bottom-color: var(--fill-color);\n",
              "      border-left-color: var(--fill-color);\n",
              "    }\n",
              "    20% {\n",
              "      border-color: transparent;\n",
              "      border-left-color: var(--fill-color);\n",
              "      border-top-color: var(--fill-color);\n",
              "    }\n",
              "    30% {\n",
              "      border-color: transparent;\n",
              "      border-left-color: var(--fill-color);\n",
              "      border-top-color: var(--fill-color);\n",
              "      border-right-color: var(--fill-color);\n",
              "    }\n",
              "    40% {\n",
              "      border-color: transparent;\n",
              "      border-right-color: var(--fill-color);\n",
              "      border-top-color: var(--fill-color);\n",
              "    }\n",
              "    60% {\n",
              "      border-color: transparent;\n",
              "      border-right-color: var(--fill-color);\n",
              "    }\n",
              "    80% {\n",
              "      border-color: transparent;\n",
              "      border-right-color: var(--fill-color);\n",
              "      border-bottom-color: var(--fill-color);\n",
              "    }\n",
              "    90% {\n",
              "      border-color: transparent;\n",
              "      border-bottom-color: var(--fill-color);\n",
              "    }\n",
              "  }\n",
              "</style>\n",
              "\n",
              "  <script>\n",
              "    async function quickchart(key) {\n",
              "      const quickchartButtonEl =\n",
              "        document.querySelector('#' + key + ' button');\n",
              "      quickchartButtonEl.disabled = true;  // To prevent multiple clicks.\n",
              "      quickchartButtonEl.classList.add('colab-df-spinner');\n",
              "      try {\n",
              "        const charts = await google.colab.kernel.invokeFunction(\n",
              "            'suggestCharts', [key], {});\n",
              "      } catch (error) {\n",
              "        console.error('Error during call to suggestCharts:', error);\n",
              "      }\n",
              "      quickchartButtonEl.classList.remove('colab-df-spinner');\n",
              "      quickchartButtonEl.classList.add('colab-df-quickchart-complete');\n",
              "    }\n",
              "    (() => {\n",
              "      let quickchartButtonEl =\n",
              "        document.querySelector('#df-b68b1147-9195-49e4-b810-1998c36892a9 button');\n",
              "      quickchartButtonEl.style.display =\n",
              "        google.colab.kernel.accessAllowed ? 'block' : 'none';\n",
              "    })();\n",
              "  </script>\n",
              "</div>\n",
              "\n",
              "  <div id=\"id_3ab6d7d9-bbed-4b04-b16d-f55cadb4fd90\">\n",
              "    <style>\n",
              "      .colab-df-generate {\n",
              "        background-color: #E8F0FE;\n",
              "        border: none;\n",
              "        border-radius: 50%;\n",
              "        cursor: pointer;\n",
              "        display: none;\n",
              "        fill: #1967D2;\n",
              "        height: 32px;\n",
              "        padding: 0 0 0 0;\n",
              "        width: 32px;\n",
              "      }\n",
              "\n",
              "      .colab-df-generate:hover {\n",
              "        background-color: #E2EBFA;\n",
              "        box-shadow: 0px 1px 2px rgba(60, 64, 67, 0.3), 0px 1px 3px 1px rgba(60, 64, 67, 0.15);\n",
              "        fill: #174EA6;\n",
              "      }\n",
              "\n",
              "      [theme=dark] .colab-df-generate {\n",
              "        background-color: #3B4455;\n",
              "        fill: #D2E3FC;\n",
              "      }\n",
              "\n",
              "      [theme=dark] .colab-df-generate:hover {\n",
              "        background-color: #434B5C;\n",
              "        box-shadow: 0px 1px 3px 1px rgba(0, 0, 0, 0.15);\n",
              "        filter: drop-shadow(0px 1px 2px rgba(0, 0, 0, 0.3));\n",
              "        fill: #FFFFFF;\n",
              "      }\n",
              "    </style>\n",
              "    <button class=\"colab-df-generate\" onclick=\"generateWithVariable('df')\"\n",
              "            title=\"Generate code using this dataframe.\"\n",
              "            style=\"display:none;\">\n",
              "\n",
              "  <svg xmlns=\"http://www.w3.org/2000/svg\" height=\"24px\"viewBox=\"0 0 24 24\"\n",
              "       width=\"24px\">\n",
              "    <path d=\"M7,19H8.4L18.45,9,17,7.55,7,17.6ZM5,21V16.75L18.45,3.32a2,2,0,0,1,2.83,0l1.4,1.43a1.91,1.91,0,0,1,.58,1.4,1.91,1.91,0,0,1-.58,1.4L9.25,21ZM18.45,9,17,7.55Zm-12,3A5.31,5.31,0,0,0,4.9,8.1,5.31,5.31,0,0,0,1,6.5,5.31,5.31,0,0,0,4.9,4.9,5.31,5.31,0,0,0,6.5,1,5.31,5.31,0,0,0,8.1,4.9,5.31,5.31,0,0,0,12,6.5,5.46,5.46,0,0,0,6.5,12Z\"/>\n",
              "  </svg>\n",
              "    </button>\n",
              "    <script>\n",
              "      (() => {\n",
              "      const buttonEl =\n",
              "        document.querySelector('#id_3ab6d7d9-bbed-4b04-b16d-f55cadb4fd90 button.colab-df-generate');\n",
              "      buttonEl.style.display =\n",
              "        google.colab.kernel.accessAllowed ? 'block' : 'none';\n",
              "\n",
              "      buttonEl.onclick = () => {\n",
              "        google.colab.notebook.generateWithVariable('df');\n",
              "      }\n",
              "      })();\n",
              "    </script>\n",
              "  </div>\n",
              "\n",
              "    </div>\n",
              "  </div>\n"
            ],
            "application/vnd.google.colaboratory.intrinsic+json": {
              "type": "dataframe",
              "variable_name": "df",
              "summary": "{\n  \"name\": \"df\",\n  \"rows\": 23967,\n  \"fields\": [\n    {\n      \"column\": \"date\",\n      \"properties\": {\n        \"dtype\": \"string\",\n        \"num_unique_values\": 15079,\n        \"samples\": [\n          \"02-FEB-1966\",\n          \"03-MAR-1955\",\n          \"30-DEC-2003\"\n        ],\n        \"semantic_type\": \"\",\n        \"description\": \"\"\n      }\n    },\n    {\n      \"column\": \"type\",\n      \"properties\": {\n        \"dtype\": \"category\",\n        \"num_unique_values\": 3201,\n        \"samples\": [\n          \"Learjet 25B\",\n          \"Ilyushin Il-18E\",\n          \"Lockheed NC-130F Hercules\"\n        ],\n        \"semantic_type\": \"\",\n        \"description\": \"\"\n      }\n    },\n    {\n      \"column\": \"registration\",\n      \"properties\": {\n        \"dtype\": \"string\",\n        \"num_unique_values\": 21962,\n        \"samples\": [\n          \"CC-CNW\",\n          \"G-ARLF\",\n          \"9N-ADA\"\n        ],\n        \"semantic_type\": \"\",\n        \"description\": \"\"\n      }\n    },\n    {\n      \"column\": \"operator\",\n      \"properties\": {\n        \"dtype\": \"category\",\n        \"num_unique_values\": 6017,\n        \"samples\": [\n          \"Luxair\",\n          \"Viva Aerobus\",\n          \"Hansa Jet Corp.\"\n        ],\n        \"semantic_type\": \"\",\n        \"description\": \"\"\n      }\n    },\n    {\n      \"column\": \"fatalities\",\n      \"properties\": {\n        \"dtype\": \"category\",\n        \"num_unique_values\": 369,\n        \"samples\": [\n          \"145\",\n          \"26\",\n          \"14+ 1\"\n        ],\n        \"semantic_type\": \"\",\n        \"description\": \"\"\n      }\n    },\n    {\n      \"column\": \"location\",\n      \"properties\": {\n        \"dtype\": \"string\",\n        \"num_unique_values\": 14608,\n        \"samples\": [\n          \"West Deering, NH\",\n          \"Panchkhal\",\n          \"Chicago, New Yor...\"\n        ],\n        \"semantic_type\": \"\",\n        \"description\": \"\"\n      }\n    },\n    {\n      \"column\": \"country\",\n      \"properties\": {\n        \"dtype\": \"category\",\n        \"num_unique_values\": 232,\n        \"samples\": [\n          \"Rwanda\",\n          \"Hungary\",\n          \"Zimbabwe\"\n        ],\n        \"semantic_type\": \"\",\n        \"description\": \"\"\n      }\n    },\n    {\n      \"column\": \"cat\",\n      \"properties\": {\n        \"dtype\": \"category\",\n        \"num_unique_values\": 11,\n        \"samples\": [\n          \"C1\",\n          \"U1\",\n          \"I2\"\n        ],\n        \"semantic_type\": \"\",\n        \"description\": \"\"\n      }\n    },\n    {\n      \"column\": \"year\",\n      \"properties\": {\n        \"dtype\": \"category\",\n        \"num_unique_values\": 106,\n        \"samples\": [\n          \"2018\",\n          \"1928\",\n          \"1922\"\n        ],\n        \"semantic_type\": \"\",\n        \"description\": \"\"\n      }\n    }\n  ]\n}"
            }
          },
          "metadata": {},
          "execution_count": 2
        }
      ]
    },
    {
      "cell_type": "markdown",
      "source": [
        "# Data Cleaning"
      ],
      "metadata": {
        "id": "P2JTgVx0jxSX"
      }
    },
    {
      "cell_type": "code",
      "source": [
        "clear_df = df.copy() #Create a copy of the dataframe\n",
        "clear_df.info()"
      ],
      "metadata": {
        "colab": {
          "base_uri": "https://localhost:8080/"
        },
        "id": "vsZ7ZTxtC-Wp",
        "outputId": "3b74c752-29e7-4916-deae-403cbc535c47"
      },
      "execution_count": 3,
      "outputs": [
        {
          "output_type": "stream",
          "name": "stdout",
          "text": [
            "<class 'pandas.core.frame.DataFrame'>\n",
            "RangeIndex: 23967 entries, 0 to 23966\n",
            "Data columns (total 9 columns):\n",
            " #   Column        Non-Null Count  Dtype \n",
            "---  ------        --------------  ----- \n",
            " 0   date          23967 non-null  object\n",
            " 1   type          23967 non-null  object\n",
            " 2   registration  22419 non-null  object\n",
            " 3   operator      23963 non-null  object\n",
            " 4   fatalities    20029 non-null  object\n",
            " 5   location      23019 non-null  object\n",
            " 6   country       23967 non-null  object\n",
            " 7   cat           23967 non-null  object\n",
            " 8   year          23967 non-null  object\n",
            "dtypes: object(9)\n",
            "memory usage: 1.6+ MB\n"
          ]
        }
      ]
    },
    {
      "cell_type": "code",
      "source": [
        "clear_df.isna().sum() # Check for null values"
      ],
      "metadata": {
        "colab": {
          "base_uri": "https://localhost:8080/"
        },
        "id": "O3O03z44hxKr",
        "outputId": "bfd9cc4d-34e2-4bca-835b-c7e65fea31c2"
      },
      "execution_count": 4,
      "outputs": [
        {
          "output_type": "execute_result",
          "data": {
            "text/plain": [
              "date               0\n",
              "type               0\n",
              "registration    1548\n",
              "operator           4\n",
              "fatalities      3938\n",
              "location         948\n",
              "country            0\n",
              "cat                0\n",
              "year               0\n",
              "dtype: int64"
            ]
          },
          "metadata": {},
          "execution_count": 4
        }
      ]
    },
    {
      "cell_type": "markdown",
      "source": [
        "### \"Date\" Column"
      ],
      "metadata": {
        "id": "6XPsmDnO0a6e"
      }
    },
    {
      "cell_type": "markdown",
      "source": [
        "Isolate the column and clean the values"
      ],
      "metadata": {
        "id": "d1QGNsGUodyZ"
      }
    },
    {
      "cell_type": "code",
      "source": [
        "for i in df[\"date\"].unique():\n",
        "  if len(i) < 10: #10 is the number of characters in a date\n",
        "    print(i)\n",
        "  else: continue"
      ],
      "metadata": {
        "colab": {
          "base_uri": "https://localhost:8080/"
        },
        "id": "a9HQDr6Fj9na",
        "outputId": "61e2a8cd-ba1c-49b2-e371-050921efc0d1"
      },
      "execution_count": 5,
      "outputs": [
        {
          "output_type": "stream",
          "name": "stdout",
          "text": [
            "date unk.\n"
          ]
        }
      ]
    },
    {
      "cell_type": "code",
      "source": [
        "date_col= clear_df.loc[:,[\"date\"]]\n",
        "date_col"
      ],
      "metadata": {
        "colab": {
          "base_uri": "https://localhost:8080/",
          "height": 423
        },
        "id": "231JpxHFr5Tj",
        "outputId": "047b8770-8789-461f-92d5-a4a3f15a78ee"
      },
      "execution_count": 6,
      "outputs": [
        {
          "output_type": "execute_result",
          "data": {
            "text/plain": [
              "              date\n",
              "0        date unk.\n",
              "1        date unk.\n",
              "2        date unk.\n",
              "3        date unk.\n",
              "4        date unk.\n",
              "...            ...\n",
              "23962  11-MAY-2023\n",
              "23963  11-MAY-2023\n",
              "23964  12-MAY-2023\n",
              "23965  14-MAY-2023\n",
              "23966  15-MAY-2023\n",
              "\n",
              "[23967 rows x 1 columns]"
            ],
            "text/html": [
              "\n",
              "  <div id=\"df-a52d05f3-9a07-4339-b050-d2ef98caf3e6\" class=\"colab-df-container\">\n",
              "    <div>\n",
              "<style scoped>\n",
              "    .dataframe tbody tr th:only-of-type {\n",
              "        vertical-align: middle;\n",
              "    }\n",
              "\n",
              "    .dataframe tbody tr th {\n",
              "        vertical-align: top;\n",
              "    }\n",
              "\n",
              "    .dataframe thead th {\n",
              "        text-align: right;\n",
              "    }\n",
              "</style>\n",
              "<table border=\"1\" class=\"dataframe\">\n",
              "  <thead>\n",
              "    <tr style=\"text-align: right;\">\n",
              "      <th></th>\n",
              "      <th>date</th>\n",
              "    </tr>\n",
              "  </thead>\n",
              "  <tbody>\n",
              "    <tr>\n",
              "      <th>0</th>\n",
              "      <td>date unk.</td>\n",
              "    </tr>\n",
              "    <tr>\n",
              "      <th>1</th>\n",
              "      <td>date unk.</td>\n",
              "    </tr>\n",
              "    <tr>\n",
              "      <th>2</th>\n",
              "      <td>date unk.</td>\n",
              "    </tr>\n",
              "    <tr>\n",
              "      <th>3</th>\n",
              "      <td>date unk.</td>\n",
              "    </tr>\n",
              "    <tr>\n",
              "      <th>4</th>\n",
              "      <td>date unk.</td>\n",
              "    </tr>\n",
              "    <tr>\n",
              "      <th>...</th>\n",
              "      <td>...</td>\n",
              "    </tr>\n",
              "    <tr>\n",
              "      <th>23962</th>\n",
              "      <td>11-MAY-2023</td>\n",
              "    </tr>\n",
              "    <tr>\n",
              "      <th>23963</th>\n",
              "      <td>11-MAY-2023</td>\n",
              "    </tr>\n",
              "    <tr>\n",
              "      <th>23964</th>\n",
              "      <td>12-MAY-2023</td>\n",
              "    </tr>\n",
              "    <tr>\n",
              "      <th>23965</th>\n",
              "      <td>14-MAY-2023</td>\n",
              "    </tr>\n",
              "    <tr>\n",
              "      <th>23966</th>\n",
              "      <td>15-MAY-2023</td>\n",
              "    </tr>\n",
              "  </tbody>\n",
              "</table>\n",
              "<p>23967 rows × 1 columns</p>\n",
              "</div>\n",
              "    <div class=\"colab-df-buttons\">\n",
              "\n",
              "  <div class=\"colab-df-container\">\n",
              "    <button class=\"colab-df-convert\" onclick=\"convertToInteractive('df-a52d05f3-9a07-4339-b050-d2ef98caf3e6')\"\n",
              "            title=\"Convert this dataframe to an interactive table.\"\n",
              "            style=\"display:none;\">\n",
              "\n",
              "  <svg xmlns=\"http://www.w3.org/2000/svg\" height=\"24px\" viewBox=\"0 -960 960 960\">\n",
              "    <path d=\"M120-120v-720h720v720H120Zm60-500h600v-160H180v160Zm220 220h160v-160H400v160Zm0 220h160v-160H400v160ZM180-400h160v-160H180v160Zm440 0h160v-160H620v160ZM180-180h160v-160H180v160Zm440 0h160v-160H620v160Z\"/>\n",
              "  </svg>\n",
              "    </button>\n",
              "\n",
              "  <style>\n",
              "    .colab-df-container {\n",
              "      display:flex;\n",
              "      gap: 12px;\n",
              "    }\n",
              "\n",
              "    .colab-df-convert {\n",
              "      background-color: #E8F0FE;\n",
              "      border: none;\n",
              "      border-radius: 50%;\n",
              "      cursor: pointer;\n",
              "      display: none;\n",
              "      fill: #1967D2;\n",
              "      height: 32px;\n",
              "      padding: 0 0 0 0;\n",
              "      width: 32px;\n",
              "    }\n",
              "\n",
              "    .colab-df-convert:hover {\n",
              "      background-color: #E2EBFA;\n",
              "      box-shadow: 0px 1px 2px rgba(60, 64, 67, 0.3), 0px 1px 3px 1px rgba(60, 64, 67, 0.15);\n",
              "      fill: #174EA6;\n",
              "    }\n",
              "\n",
              "    .colab-df-buttons div {\n",
              "      margin-bottom: 4px;\n",
              "    }\n",
              "\n",
              "    [theme=dark] .colab-df-convert {\n",
              "      background-color: #3B4455;\n",
              "      fill: #D2E3FC;\n",
              "    }\n",
              "\n",
              "    [theme=dark] .colab-df-convert:hover {\n",
              "      background-color: #434B5C;\n",
              "      box-shadow: 0px 1px 3px 1px rgba(0, 0, 0, 0.15);\n",
              "      filter: drop-shadow(0px 1px 2px rgba(0, 0, 0, 0.3));\n",
              "      fill: #FFFFFF;\n",
              "    }\n",
              "  </style>\n",
              "\n",
              "    <script>\n",
              "      const buttonEl =\n",
              "        document.querySelector('#df-a52d05f3-9a07-4339-b050-d2ef98caf3e6 button.colab-df-convert');\n",
              "      buttonEl.style.display =\n",
              "        google.colab.kernel.accessAllowed ? 'block' : 'none';\n",
              "\n",
              "      async function convertToInteractive(key) {\n",
              "        const element = document.querySelector('#df-a52d05f3-9a07-4339-b050-d2ef98caf3e6');\n",
              "        const dataTable =\n",
              "          await google.colab.kernel.invokeFunction('convertToInteractive',\n",
              "                                                    [key], {});\n",
              "        if (!dataTable) return;\n",
              "\n",
              "        const docLinkHtml = 'Like what you see? Visit the ' +\n",
              "          '<a target=\"_blank\" href=https://colab.research.google.com/notebooks/data_table.ipynb>data table notebook</a>'\n",
              "          + ' to learn more about interactive tables.';\n",
              "        element.innerHTML = '';\n",
              "        dataTable['output_type'] = 'display_data';\n",
              "        await google.colab.output.renderOutput(dataTable, element);\n",
              "        const docLink = document.createElement('div');\n",
              "        docLink.innerHTML = docLinkHtml;\n",
              "        element.appendChild(docLink);\n",
              "      }\n",
              "    </script>\n",
              "  </div>\n",
              "\n",
              "\n",
              "<div id=\"df-9fecf7f4-52df-48a5-8663-a67084e287c9\">\n",
              "  <button class=\"colab-df-quickchart\" onclick=\"quickchart('df-9fecf7f4-52df-48a5-8663-a67084e287c9')\"\n",
              "            title=\"Suggest charts\"\n",
              "            style=\"display:none;\">\n",
              "\n",
              "<svg xmlns=\"http://www.w3.org/2000/svg\" height=\"24px\"viewBox=\"0 0 24 24\"\n",
              "     width=\"24px\">\n",
              "    <g>\n",
              "        <path d=\"M19 3H5c-1.1 0-2 .9-2 2v14c0 1.1.9 2 2 2h14c1.1 0 2-.9 2-2V5c0-1.1-.9-2-2-2zM9 17H7v-7h2v7zm4 0h-2V7h2v10zm4 0h-2v-4h2v4z\"/>\n",
              "    </g>\n",
              "</svg>\n",
              "  </button>\n",
              "\n",
              "<style>\n",
              "  .colab-df-quickchart {\n",
              "      --bg-color: #E8F0FE;\n",
              "      --fill-color: #1967D2;\n",
              "      --hover-bg-color: #E2EBFA;\n",
              "      --hover-fill-color: #174EA6;\n",
              "      --disabled-fill-color: #AAA;\n",
              "      --disabled-bg-color: #DDD;\n",
              "  }\n",
              "\n",
              "  [theme=dark] .colab-df-quickchart {\n",
              "      --bg-color: #3B4455;\n",
              "      --fill-color: #D2E3FC;\n",
              "      --hover-bg-color: #434B5C;\n",
              "      --hover-fill-color: #FFFFFF;\n",
              "      --disabled-bg-color: #3B4455;\n",
              "      --disabled-fill-color: #666;\n",
              "  }\n",
              "\n",
              "  .colab-df-quickchart {\n",
              "    background-color: var(--bg-color);\n",
              "    border: none;\n",
              "    border-radius: 50%;\n",
              "    cursor: pointer;\n",
              "    display: none;\n",
              "    fill: var(--fill-color);\n",
              "    height: 32px;\n",
              "    padding: 0;\n",
              "    width: 32px;\n",
              "  }\n",
              "\n",
              "  .colab-df-quickchart:hover {\n",
              "    background-color: var(--hover-bg-color);\n",
              "    box-shadow: 0 1px 2px rgba(60, 64, 67, 0.3), 0 1px 3px 1px rgba(60, 64, 67, 0.15);\n",
              "    fill: var(--button-hover-fill-color);\n",
              "  }\n",
              "\n",
              "  .colab-df-quickchart-complete:disabled,\n",
              "  .colab-df-quickchart-complete:disabled:hover {\n",
              "    background-color: var(--disabled-bg-color);\n",
              "    fill: var(--disabled-fill-color);\n",
              "    box-shadow: none;\n",
              "  }\n",
              "\n",
              "  .colab-df-spinner {\n",
              "    border: 2px solid var(--fill-color);\n",
              "    border-color: transparent;\n",
              "    border-bottom-color: var(--fill-color);\n",
              "    animation:\n",
              "      spin 1s steps(1) infinite;\n",
              "  }\n",
              "\n",
              "  @keyframes spin {\n",
              "    0% {\n",
              "      border-color: transparent;\n",
              "      border-bottom-color: var(--fill-color);\n",
              "      border-left-color: var(--fill-color);\n",
              "    }\n",
              "    20% {\n",
              "      border-color: transparent;\n",
              "      border-left-color: var(--fill-color);\n",
              "      border-top-color: var(--fill-color);\n",
              "    }\n",
              "    30% {\n",
              "      border-color: transparent;\n",
              "      border-left-color: var(--fill-color);\n",
              "      border-top-color: var(--fill-color);\n",
              "      border-right-color: var(--fill-color);\n",
              "    }\n",
              "    40% {\n",
              "      border-color: transparent;\n",
              "      border-right-color: var(--fill-color);\n",
              "      border-top-color: var(--fill-color);\n",
              "    }\n",
              "    60% {\n",
              "      border-color: transparent;\n",
              "      border-right-color: var(--fill-color);\n",
              "    }\n",
              "    80% {\n",
              "      border-color: transparent;\n",
              "      border-right-color: var(--fill-color);\n",
              "      border-bottom-color: var(--fill-color);\n",
              "    }\n",
              "    90% {\n",
              "      border-color: transparent;\n",
              "      border-bottom-color: var(--fill-color);\n",
              "    }\n",
              "  }\n",
              "</style>\n",
              "\n",
              "  <script>\n",
              "    async function quickchart(key) {\n",
              "      const quickchartButtonEl =\n",
              "        document.querySelector('#' + key + ' button');\n",
              "      quickchartButtonEl.disabled = true;  // To prevent multiple clicks.\n",
              "      quickchartButtonEl.classList.add('colab-df-spinner');\n",
              "      try {\n",
              "        const charts = await google.colab.kernel.invokeFunction(\n",
              "            'suggestCharts', [key], {});\n",
              "      } catch (error) {\n",
              "        console.error('Error during call to suggestCharts:', error);\n",
              "      }\n",
              "      quickchartButtonEl.classList.remove('colab-df-spinner');\n",
              "      quickchartButtonEl.classList.add('colab-df-quickchart-complete');\n",
              "    }\n",
              "    (() => {\n",
              "      let quickchartButtonEl =\n",
              "        document.querySelector('#df-9fecf7f4-52df-48a5-8663-a67084e287c9 button');\n",
              "      quickchartButtonEl.style.display =\n",
              "        google.colab.kernel.accessAllowed ? 'block' : 'none';\n",
              "    })();\n",
              "  </script>\n",
              "</div>\n",
              "\n",
              "  <div id=\"id_8dbe160e-a722-4cb4-aa1a-7d969618ecbc\">\n",
              "    <style>\n",
              "      .colab-df-generate {\n",
              "        background-color: #E8F0FE;\n",
              "        border: none;\n",
              "        border-radius: 50%;\n",
              "        cursor: pointer;\n",
              "        display: none;\n",
              "        fill: #1967D2;\n",
              "        height: 32px;\n",
              "        padding: 0 0 0 0;\n",
              "        width: 32px;\n",
              "      }\n",
              "\n",
              "      .colab-df-generate:hover {\n",
              "        background-color: #E2EBFA;\n",
              "        box-shadow: 0px 1px 2px rgba(60, 64, 67, 0.3), 0px 1px 3px 1px rgba(60, 64, 67, 0.15);\n",
              "        fill: #174EA6;\n",
              "      }\n",
              "\n",
              "      [theme=dark] .colab-df-generate {\n",
              "        background-color: #3B4455;\n",
              "        fill: #D2E3FC;\n",
              "      }\n",
              "\n",
              "      [theme=dark] .colab-df-generate:hover {\n",
              "        background-color: #434B5C;\n",
              "        box-shadow: 0px 1px 3px 1px rgba(0, 0, 0, 0.15);\n",
              "        filter: drop-shadow(0px 1px 2px rgba(0, 0, 0, 0.3));\n",
              "        fill: #FFFFFF;\n",
              "      }\n",
              "    </style>\n",
              "    <button class=\"colab-df-generate\" onclick=\"generateWithVariable('date_col')\"\n",
              "            title=\"Generate code using this dataframe.\"\n",
              "            style=\"display:none;\">\n",
              "\n",
              "  <svg xmlns=\"http://www.w3.org/2000/svg\" height=\"24px\"viewBox=\"0 0 24 24\"\n",
              "       width=\"24px\">\n",
              "    <path d=\"M7,19H8.4L18.45,9,17,7.55,7,17.6ZM5,21V16.75L18.45,3.32a2,2,0,0,1,2.83,0l1.4,1.43a1.91,1.91,0,0,1,.58,1.4,1.91,1.91,0,0,1-.58,1.4L9.25,21ZM18.45,9,17,7.55Zm-12,3A5.31,5.31,0,0,0,4.9,8.1,5.31,5.31,0,0,0,1,6.5,5.31,5.31,0,0,0,4.9,4.9,5.31,5.31,0,0,0,6.5,1,5.31,5.31,0,0,0,8.1,4.9,5.31,5.31,0,0,0,12,6.5,5.46,5.46,0,0,0,6.5,12Z\"/>\n",
              "  </svg>\n",
              "    </button>\n",
              "    <script>\n",
              "      (() => {\n",
              "      const buttonEl =\n",
              "        document.querySelector('#id_8dbe160e-a722-4cb4-aa1a-7d969618ecbc button.colab-df-generate');\n",
              "      buttonEl.style.display =\n",
              "        google.colab.kernel.accessAllowed ? 'block' : 'none';\n",
              "\n",
              "      buttonEl.onclick = () => {\n",
              "        google.colab.notebook.generateWithVariable('date_col');\n",
              "      }\n",
              "      })();\n",
              "    </script>\n",
              "  </div>\n",
              "\n",
              "    </div>\n",
              "  </div>\n"
            ],
            "application/vnd.google.colaboratory.intrinsic+json": {
              "type": "dataframe",
              "variable_name": "date_col",
              "summary": "{\n  \"name\": \"date_col\",\n  \"rows\": 23967,\n  \"fields\": [\n    {\n      \"column\": \"date\",\n      \"properties\": {\n        \"dtype\": \"string\",\n        \"num_unique_values\": 15079,\n        \"samples\": [\n          \"02-FEB-1966\",\n          \"03-MAR-1955\",\n          \"30-DEC-2003\"\n        ],\n        \"semantic_type\": \"\",\n        \"description\": \"\"\n      }\n    }\n  ]\n}"
            }
          },
          "metadata": {},
          "execution_count": 6
        }
      ]
    },
    {
      "cell_type": "code",
      "source": [
        "date_col = date_col[date_col[\"date\"] != \"date unk.\"] # remove the unkown values\n",
        "date_col"
      ],
      "metadata": {
        "colab": {
          "base_uri": "https://localhost:8080/",
          "height": 423
        },
        "id": "htsm4Rmbo68B",
        "outputId": "cadfc7aa-d06d-46cb-9c78-755d2e59315a"
      },
      "execution_count": 7,
      "outputs": [
        {
          "output_type": "execute_result",
          "data": {
            "text/plain": [
              "              date\n",
              "61     02-AUG-1919\n",
              "62     11-AUG-1919\n",
              "63     23-FEB-1920\n",
              "64     25-FEB-1920\n",
              "65     30-JUN-1920\n",
              "...            ...\n",
              "23962  11-MAY-2023\n",
              "23963  11-MAY-2023\n",
              "23964  12-MAY-2023\n",
              "23965  14-MAY-2023\n",
              "23966  15-MAY-2023\n",
              "\n",
              "[23906 rows x 1 columns]"
            ],
            "text/html": [
              "\n",
              "  <div id=\"df-f18e2f04-d890-4c21-be23-f78ec843a6b9\" class=\"colab-df-container\">\n",
              "    <div>\n",
              "<style scoped>\n",
              "    .dataframe tbody tr th:only-of-type {\n",
              "        vertical-align: middle;\n",
              "    }\n",
              "\n",
              "    .dataframe tbody tr th {\n",
              "        vertical-align: top;\n",
              "    }\n",
              "\n",
              "    .dataframe thead th {\n",
              "        text-align: right;\n",
              "    }\n",
              "</style>\n",
              "<table border=\"1\" class=\"dataframe\">\n",
              "  <thead>\n",
              "    <tr style=\"text-align: right;\">\n",
              "      <th></th>\n",
              "      <th>date</th>\n",
              "    </tr>\n",
              "  </thead>\n",
              "  <tbody>\n",
              "    <tr>\n",
              "      <th>61</th>\n",
              "      <td>02-AUG-1919</td>\n",
              "    </tr>\n",
              "    <tr>\n",
              "      <th>62</th>\n",
              "      <td>11-AUG-1919</td>\n",
              "    </tr>\n",
              "    <tr>\n",
              "      <th>63</th>\n",
              "      <td>23-FEB-1920</td>\n",
              "    </tr>\n",
              "    <tr>\n",
              "      <th>64</th>\n",
              "      <td>25-FEB-1920</td>\n",
              "    </tr>\n",
              "    <tr>\n",
              "      <th>65</th>\n",
              "      <td>30-JUN-1920</td>\n",
              "    </tr>\n",
              "    <tr>\n",
              "      <th>...</th>\n",
              "      <td>...</td>\n",
              "    </tr>\n",
              "    <tr>\n",
              "      <th>23962</th>\n",
              "      <td>11-MAY-2023</td>\n",
              "    </tr>\n",
              "    <tr>\n",
              "      <th>23963</th>\n",
              "      <td>11-MAY-2023</td>\n",
              "    </tr>\n",
              "    <tr>\n",
              "      <th>23964</th>\n",
              "      <td>12-MAY-2023</td>\n",
              "    </tr>\n",
              "    <tr>\n",
              "      <th>23965</th>\n",
              "      <td>14-MAY-2023</td>\n",
              "    </tr>\n",
              "    <tr>\n",
              "      <th>23966</th>\n",
              "      <td>15-MAY-2023</td>\n",
              "    </tr>\n",
              "  </tbody>\n",
              "</table>\n",
              "<p>23906 rows × 1 columns</p>\n",
              "</div>\n",
              "    <div class=\"colab-df-buttons\">\n",
              "\n",
              "  <div class=\"colab-df-container\">\n",
              "    <button class=\"colab-df-convert\" onclick=\"convertToInteractive('df-f18e2f04-d890-4c21-be23-f78ec843a6b9')\"\n",
              "            title=\"Convert this dataframe to an interactive table.\"\n",
              "            style=\"display:none;\">\n",
              "\n",
              "  <svg xmlns=\"http://www.w3.org/2000/svg\" height=\"24px\" viewBox=\"0 -960 960 960\">\n",
              "    <path d=\"M120-120v-720h720v720H120Zm60-500h600v-160H180v160Zm220 220h160v-160H400v160Zm0 220h160v-160H400v160ZM180-400h160v-160H180v160Zm440 0h160v-160H620v160ZM180-180h160v-160H180v160Zm440 0h160v-160H620v160Z\"/>\n",
              "  </svg>\n",
              "    </button>\n",
              "\n",
              "  <style>\n",
              "    .colab-df-container {\n",
              "      display:flex;\n",
              "      gap: 12px;\n",
              "    }\n",
              "\n",
              "    .colab-df-convert {\n",
              "      background-color: #E8F0FE;\n",
              "      border: none;\n",
              "      border-radius: 50%;\n",
              "      cursor: pointer;\n",
              "      display: none;\n",
              "      fill: #1967D2;\n",
              "      height: 32px;\n",
              "      padding: 0 0 0 0;\n",
              "      width: 32px;\n",
              "    }\n",
              "\n",
              "    .colab-df-convert:hover {\n",
              "      background-color: #E2EBFA;\n",
              "      box-shadow: 0px 1px 2px rgba(60, 64, 67, 0.3), 0px 1px 3px 1px rgba(60, 64, 67, 0.15);\n",
              "      fill: #174EA6;\n",
              "    }\n",
              "\n",
              "    .colab-df-buttons div {\n",
              "      margin-bottom: 4px;\n",
              "    }\n",
              "\n",
              "    [theme=dark] .colab-df-convert {\n",
              "      background-color: #3B4455;\n",
              "      fill: #D2E3FC;\n",
              "    }\n",
              "\n",
              "    [theme=dark] .colab-df-convert:hover {\n",
              "      background-color: #434B5C;\n",
              "      box-shadow: 0px 1px 3px 1px rgba(0, 0, 0, 0.15);\n",
              "      filter: drop-shadow(0px 1px 2px rgba(0, 0, 0, 0.3));\n",
              "      fill: #FFFFFF;\n",
              "    }\n",
              "  </style>\n",
              "\n",
              "    <script>\n",
              "      const buttonEl =\n",
              "        document.querySelector('#df-f18e2f04-d890-4c21-be23-f78ec843a6b9 button.colab-df-convert');\n",
              "      buttonEl.style.display =\n",
              "        google.colab.kernel.accessAllowed ? 'block' : 'none';\n",
              "\n",
              "      async function convertToInteractive(key) {\n",
              "        const element = document.querySelector('#df-f18e2f04-d890-4c21-be23-f78ec843a6b9');\n",
              "        const dataTable =\n",
              "          await google.colab.kernel.invokeFunction('convertToInteractive',\n",
              "                                                    [key], {});\n",
              "        if (!dataTable) return;\n",
              "\n",
              "        const docLinkHtml = 'Like what you see? Visit the ' +\n",
              "          '<a target=\"_blank\" href=https://colab.research.google.com/notebooks/data_table.ipynb>data table notebook</a>'\n",
              "          + ' to learn more about interactive tables.';\n",
              "        element.innerHTML = '';\n",
              "        dataTable['output_type'] = 'display_data';\n",
              "        await google.colab.output.renderOutput(dataTable, element);\n",
              "        const docLink = document.createElement('div');\n",
              "        docLink.innerHTML = docLinkHtml;\n",
              "        element.appendChild(docLink);\n",
              "      }\n",
              "    </script>\n",
              "  </div>\n",
              "\n",
              "\n",
              "<div id=\"df-14629732-4952-4a77-bfb6-07638f35aa27\">\n",
              "  <button class=\"colab-df-quickchart\" onclick=\"quickchart('df-14629732-4952-4a77-bfb6-07638f35aa27')\"\n",
              "            title=\"Suggest charts\"\n",
              "            style=\"display:none;\">\n",
              "\n",
              "<svg xmlns=\"http://www.w3.org/2000/svg\" height=\"24px\"viewBox=\"0 0 24 24\"\n",
              "     width=\"24px\">\n",
              "    <g>\n",
              "        <path d=\"M19 3H5c-1.1 0-2 .9-2 2v14c0 1.1.9 2 2 2h14c1.1 0 2-.9 2-2V5c0-1.1-.9-2-2-2zM9 17H7v-7h2v7zm4 0h-2V7h2v10zm4 0h-2v-4h2v4z\"/>\n",
              "    </g>\n",
              "</svg>\n",
              "  </button>\n",
              "\n",
              "<style>\n",
              "  .colab-df-quickchart {\n",
              "      --bg-color: #E8F0FE;\n",
              "      --fill-color: #1967D2;\n",
              "      --hover-bg-color: #E2EBFA;\n",
              "      --hover-fill-color: #174EA6;\n",
              "      --disabled-fill-color: #AAA;\n",
              "      --disabled-bg-color: #DDD;\n",
              "  }\n",
              "\n",
              "  [theme=dark] .colab-df-quickchart {\n",
              "      --bg-color: #3B4455;\n",
              "      --fill-color: #D2E3FC;\n",
              "      --hover-bg-color: #434B5C;\n",
              "      --hover-fill-color: #FFFFFF;\n",
              "      --disabled-bg-color: #3B4455;\n",
              "      --disabled-fill-color: #666;\n",
              "  }\n",
              "\n",
              "  .colab-df-quickchart {\n",
              "    background-color: var(--bg-color);\n",
              "    border: none;\n",
              "    border-radius: 50%;\n",
              "    cursor: pointer;\n",
              "    display: none;\n",
              "    fill: var(--fill-color);\n",
              "    height: 32px;\n",
              "    padding: 0;\n",
              "    width: 32px;\n",
              "  }\n",
              "\n",
              "  .colab-df-quickchart:hover {\n",
              "    background-color: var(--hover-bg-color);\n",
              "    box-shadow: 0 1px 2px rgba(60, 64, 67, 0.3), 0 1px 3px 1px rgba(60, 64, 67, 0.15);\n",
              "    fill: var(--button-hover-fill-color);\n",
              "  }\n",
              "\n",
              "  .colab-df-quickchart-complete:disabled,\n",
              "  .colab-df-quickchart-complete:disabled:hover {\n",
              "    background-color: var(--disabled-bg-color);\n",
              "    fill: var(--disabled-fill-color);\n",
              "    box-shadow: none;\n",
              "  }\n",
              "\n",
              "  .colab-df-spinner {\n",
              "    border: 2px solid var(--fill-color);\n",
              "    border-color: transparent;\n",
              "    border-bottom-color: var(--fill-color);\n",
              "    animation:\n",
              "      spin 1s steps(1) infinite;\n",
              "  }\n",
              "\n",
              "  @keyframes spin {\n",
              "    0% {\n",
              "      border-color: transparent;\n",
              "      border-bottom-color: var(--fill-color);\n",
              "      border-left-color: var(--fill-color);\n",
              "    }\n",
              "    20% {\n",
              "      border-color: transparent;\n",
              "      border-left-color: var(--fill-color);\n",
              "      border-top-color: var(--fill-color);\n",
              "    }\n",
              "    30% {\n",
              "      border-color: transparent;\n",
              "      border-left-color: var(--fill-color);\n",
              "      border-top-color: var(--fill-color);\n",
              "      border-right-color: var(--fill-color);\n",
              "    }\n",
              "    40% {\n",
              "      border-color: transparent;\n",
              "      border-right-color: var(--fill-color);\n",
              "      border-top-color: var(--fill-color);\n",
              "    }\n",
              "    60% {\n",
              "      border-color: transparent;\n",
              "      border-right-color: var(--fill-color);\n",
              "    }\n",
              "    80% {\n",
              "      border-color: transparent;\n",
              "      border-right-color: var(--fill-color);\n",
              "      border-bottom-color: var(--fill-color);\n",
              "    }\n",
              "    90% {\n",
              "      border-color: transparent;\n",
              "      border-bottom-color: var(--fill-color);\n",
              "    }\n",
              "  }\n",
              "</style>\n",
              "\n",
              "  <script>\n",
              "    async function quickchart(key) {\n",
              "      const quickchartButtonEl =\n",
              "        document.querySelector('#' + key + ' button');\n",
              "      quickchartButtonEl.disabled = true;  // To prevent multiple clicks.\n",
              "      quickchartButtonEl.classList.add('colab-df-spinner');\n",
              "      try {\n",
              "        const charts = await google.colab.kernel.invokeFunction(\n",
              "            'suggestCharts', [key], {});\n",
              "      } catch (error) {\n",
              "        console.error('Error during call to suggestCharts:', error);\n",
              "      }\n",
              "      quickchartButtonEl.classList.remove('colab-df-spinner');\n",
              "      quickchartButtonEl.classList.add('colab-df-quickchart-complete');\n",
              "    }\n",
              "    (() => {\n",
              "      let quickchartButtonEl =\n",
              "        document.querySelector('#df-14629732-4952-4a77-bfb6-07638f35aa27 button');\n",
              "      quickchartButtonEl.style.display =\n",
              "        google.colab.kernel.accessAllowed ? 'block' : 'none';\n",
              "    })();\n",
              "  </script>\n",
              "</div>\n",
              "\n",
              "  <div id=\"id_ffc32831-067d-4ddb-a6e2-1cb4bb2a0264\">\n",
              "    <style>\n",
              "      .colab-df-generate {\n",
              "        background-color: #E8F0FE;\n",
              "        border: none;\n",
              "        border-radius: 50%;\n",
              "        cursor: pointer;\n",
              "        display: none;\n",
              "        fill: #1967D2;\n",
              "        height: 32px;\n",
              "        padding: 0 0 0 0;\n",
              "        width: 32px;\n",
              "      }\n",
              "\n",
              "      .colab-df-generate:hover {\n",
              "        background-color: #E2EBFA;\n",
              "        box-shadow: 0px 1px 2px rgba(60, 64, 67, 0.3), 0px 1px 3px 1px rgba(60, 64, 67, 0.15);\n",
              "        fill: #174EA6;\n",
              "      }\n",
              "\n",
              "      [theme=dark] .colab-df-generate {\n",
              "        background-color: #3B4455;\n",
              "        fill: #D2E3FC;\n",
              "      }\n",
              "\n",
              "      [theme=dark] .colab-df-generate:hover {\n",
              "        background-color: #434B5C;\n",
              "        box-shadow: 0px 1px 3px 1px rgba(0, 0, 0, 0.15);\n",
              "        filter: drop-shadow(0px 1px 2px rgba(0, 0, 0, 0.3));\n",
              "        fill: #FFFFFF;\n",
              "      }\n",
              "    </style>\n",
              "    <button class=\"colab-df-generate\" onclick=\"generateWithVariable('date_col')\"\n",
              "            title=\"Generate code using this dataframe.\"\n",
              "            style=\"display:none;\">\n",
              "\n",
              "  <svg xmlns=\"http://www.w3.org/2000/svg\" height=\"24px\"viewBox=\"0 0 24 24\"\n",
              "       width=\"24px\">\n",
              "    <path d=\"M7,19H8.4L18.45,9,17,7.55,7,17.6ZM5,21V16.75L18.45,3.32a2,2,0,0,1,2.83,0l1.4,1.43a1.91,1.91,0,0,1,.58,1.4,1.91,1.91,0,0,1-.58,1.4L9.25,21ZM18.45,9,17,7.55Zm-12,3A5.31,5.31,0,0,0,4.9,8.1,5.31,5.31,0,0,0,1,6.5,5.31,5.31,0,0,0,4.9,4.9,5.31,5.31,0,0,0,6.5,1,5.31,5.31,0,0,0,8.1,4.9,5.31,5.31,0,0,0,12,6.5,5.46,5.46,0,0,0,6.5,12Z\"/>\n",
              "  </svg>\n",
              "    </button>\n",
              "    <script>\n",
              "      (() => {\n",
              "      const buttonEl =\n",
              "        document.querySelector('#id_ffc32831-067d-4ddb-a6e2-1cb4bb2a0264 button.colab-df-generate');\n",
              "      buttonEl.style.display =\n",
              "        google.colab.kernel.accessAllowed ? 'block' : 'none';\n",
              "\n",
              "      buttonEl.onclick = () => {\n",
              "        google.colab.notebook.generateWithVariable('date_col');\n",
              "      }\n",
              "      })();\n",
              "    </script>\n",
              "  </div>\n",
              "\n",
              "    </div>\n",
              "  </div>\n"
            ],
            "application/vnd.google.colaboratory.intrinsic+json": {
              "type": "dataframe",
              "variable_name": "date_col",
              "summary": "{\n  \"name\": \"date_col\",\n  \"rows\": 23906,\n  \"fields\": [\n    {\n      \"column\": \"date\",\n      \"properties\": {\n        \"dtype\": \"string\",\n        \"num_unique_values\": 15078,\n        \"samples\": [\n          \"03-FEB-1966\",\n          \"04-MAR-1955\",\n          \"01-JAN-2004\"\n        ],\n        \"semantic_type\": \"\",\n        \"description\": \"\"\n      }\n    }\n  ]\n}"
            }
          },
          "metadata": {},
          "execution_count": 7
        }
      ]
    },
    {
      "cell_type": "markdown",
      "source": [
        "Remove partial dates"
      ],
      "metadata": {
        "id": "9cLP9ESEpjue"
      }
    },
    {
      "cell_type": "code",
      "source": [
        "not_valid_data = []\n",
        "\n",
        "for i in date_col[\"date\"]:\n",
        "    try:\n",
        "        datetime.strptime(i, \"%d-%b-%Y\")\n",
        "    except ValueError:\n",
        "        not_valid_data.append(i)\n",
        "\n",
        "print(\"Not valid dates:\", not_valid_data)\n",
        "\n",
        "date_col = date_col[~date_col[\"date\"].isin(not_valid_data)] # remove the partial dates from the column\n",
        "date_col[\"date\"] = pd.to_datetime(date_col[\"date\"]) # convert dates from strings to datetime"
      ],
      "metadata": {
        "colab": {
          "base_uri": "https://localhost:8080/"
        },
        "id": "zPYzcI7p6CiV",
        "outputId": "360cdcfc-46e9-45aa-97d3-d7d4eb7640aa"
      },
      "execution_count": 8,
      "outputs": [
        {
          "output_type": "stream",
          "name": "stdout",
          "text": [
            "Not valid data: ['??-???-1923', '??-DEC-1928', '??-FEB-1929', '??-OCT-1929', '??-???-1930', '??-???-1934', '??-MAY-1936', '??-???-1936', '??-MAR-1937', '??-MAR-1937', '??-NOV-1937', '??-FEB-1938', '??-MAR-1939', '??-MAR-1939', '??-APR-1939', '??-MAY-1939', '??-JUN-1940', '??-JUN-1940', '??-JUN-1940', '??-JUL-1940', '??-SEP-1940', '??-DEC-1940', '??-???-1940', '??-JUN-1941', '??-JUL-1941', '??-NOV-1941', '??-NOV-1941', '??-DEC-1941', '??-???-1941', '??-???-1941', '??-???-1941', '??-???-1941', '??-???-1941', '??-???-1941', '??-???-1941', '??-???-1941', '??-???-1941', '??-???-1941', '??-???-1941', '??-???-1941', '??-???-1941', '??-???-1941', '??-???-1941', '??-???-1941', '??-???-1941', '??-FEB-1942', '??-MAR-1942', '??-OCT-1942', '??-DEC-1942', '??-???-1942', '??-???-1942', '??-???-1942', '??-???-1942', '??-???-1942', '??-???-1942', '??-???-1942', '??-???-1942', '??-???-1942', '??-???-1942', '??-???-1942', '??-???-1942', '??-???-1942', '??-???-1942', '??-???-1942', '??-???-1942', '??-MAR-1943', '??-JUN-1943', '??-AUG-1943', '??-NOV-1943', '??-NOV-1943', '??-NOV-1943', '??-DEC-1943', '??-???-1943', '??-???-1943', '??-???-1943', '??-???-1943', '??-???-1943', '??-???-1943', '??-???-1943', '??-???-1943', '??-???-1943', '??-???-1943', '??-JAN-1944', '??-JAN-1944', '??-SEP-1944', '??-OCT-1944', '??-DEC-1944', '??-DEC-1944', '14-14-1944', '??-???-1944', '??-???-1944', '??-???-1944', '??-???-1944', '??-???-1944', '??-???-1944', '??-???-1944', '??-MAY-1944', '??-JUN-1944', '??-JUL-1944', '??-AUG-1944', '??-AUG-1944', '??-JUN-1945', '??-JUN-1945', '??-SEP-1945', '??-OCT-1945', '??-NOV-1945', '??-NOV-1945', '??-NOV-1945', '??-DEC-1945', '??-???-1945', '??-???-1945', '??-???-1945', '??-???-1945', '??-???-1945', '??-JAN-1945', '??-FEB-1945', '??-APR-1945', '??-APR-1945', '??-APR-1945', '??-MAY-1945', '??-MAY-1945', '??-???-1946', '??-???-1946', '??-???-1946', '??-JUN-1947', '??-OCT-1947', '??-???-1947', '??-???-1947', '??-OCT-1948', '??-???-1948', '??-???-1948', '??-???-1948', '??-???-1948', '??-???-1948', '??-NOV-1949', '??-???-1949', '??-MAY-1951', '??-NOV-1951', '??-AUG-1953', '??-???-1953', '??-???-1953', '??-JAN-1954', '??-???-1954', '??-???-1954', '??-SEP-1956', '??-???-1956', '??-???-1956', '??-FEB-1957', '??-FEB-1958', '??-FEB-1958', '??-FEB-1958', '??-MAY-1958', '??-???-1958', '??-???-1958', '??-???-1958', '??-APR-1959', '??-NOV-1959', '??-NOV-1959', '??-FEB-1960', '??-MAY-1960', '??-OCT-1960', '??-???-1960', '??-SEP-1961', '??-OCT-1961', '??-OCT-1961', '??-???-1961', '??-???-1962', '??-AUG-1963', '??-???-1963', '??-???-1963', '??-???-1963', '??-MAY-1964', '??-AUG-1964', '??-???-1964', '??-???-1964', '??-???-1964', '??-???-1964', '??-???-1964', '??-???-1964', '??-JUN-1965', '??-???-1965', '??-???-1965', '??-???-1965', '??-JUN-1966', '??-AUG-1966', '??-???-1966', '??-???-1966', '??-AUG-1967', '??-AUG-1967', '??-NOV-1967', '??-???-1967', '??-???-1967', '??-???-1967', '??-JAN-1968', '??-JAN-1968', '??-DEC-1968', '??-???-1968', '??-???-1968', '??-???-1968', '??-JUL-1969', '??-DEC-1969', '??-???-1969', '??-???-1969', '??-???-1969', '??-???-1969', '??-???-1969', '??-???-1969', '??-MAR-1970', '??-MAR-1970', '??-SEP-1970', '??-???-1970', '??-???-1970', '??-???-1970', '??-???-1970', '??-MAR-1971', '??-MAY-1971', '??-JUN-1971', '??-JUL-1971', '??-JUL-1971', '??-OCT-1971', '??-OCT-1971', '??-???-1971', '??-???-1971', '??-FEB-1972', '??-FEB-1972', '??-JUN-1972', '??-???-1972', '??-???-1972', '??-???-1972', '??-???-1972', '??-MAY-1973', '??-JUN-1973', '??-???-1973', '??-???-1973', '??-???-1973', '??-???-1973', '??-FEB-1974', '??-OCT-1974', '??-???-1974', '??-FEB-1975', '??-MAR-1975', '??-APR-1975', '??-APR-1975', '??-APR-1975', '??-APR-1975', '??-APR-1975', '??-APR-1975', '??-APR-1975', '??-JUN-1975', '??-JUN-1975', '??-???-1975', '??-???-1975', '??-???-1975', '??-???-1975', '??-???-1975', '??-???-1975', '??-???-1975', '??-???-1975', '??-???-1975', '??-SEP-1976', '??-DEC-1976', '??-???-1976', '??-???-1976', '??-???-1976', '??-???-1976', '??-???-1976', '??-???-1976', '??-FEB-1977', '??-FEB-1977', '??-???-1977', '??-???-1977', '??-???-1977', '??-???-1977', '??-???-1977', '??-JUL-1978', '??-???-1978', '??-???-1978', '??-???-1978', '??-???-1978', '??-JUL-1979', '??-???-1979', '??-???-1979', '??-???-1979', '??-???-1979', '??-???-1979', '??-MAR-1980', '??-APR-1980', '??-APR-1980', '??-OCT-1980', '??-OCT-1980', '??-DEC-1980', '??-???-1980', '??-???-1980', '??-???-1980', '??-???-1980', '??-JUN-1981', '??-SEP-1981', '??-???-1981', '??-???-1981', '??-???-1981', '??-???-1981', '??-MAR-1982', '??-NOV-1982', '??-???-1982', '??-???-1982', '??-???-1982', '??-APR-1983', '??-JUL-1983', '??-AUG-1983', '??-???-1983', '??-???-1983', '??-MAY-1984', '??-JUN-1984', '??-JUL-1984', '??-JUL-1984', '??-???-1984', '??-???-1984', '??-???-1984', '??-???-1984', '??-???-1984', '??-???-1984', '??-JAN-1985', '??-FEB-1985', '??-APR-1985', '??-MAY-1985', '??-JUN-1985', '??-SEP-1985', '??-???-1985', '??-???-1985', '??-???-1985', '??-???-1985', '??-JAN-1986', '??-FEB-1986', '??-SEP-1986', '??-SEP-1986', '??-SEP-1986', '??-OCT-1986', '??-NOV-1986', '??-???-1986', '??-???-1986', '??-FEB-1987', '??-APR-1987', '??-APR-1987', '??-MAY-1987', '??-OCT-1987', '??-NOV-1987', '??-DEC-1987', '??-???-1987', '??-???-1987', '??-???-1987', '??-MAY-1988', '??-JUN-1988', '??-DEC-1988', '??-???-1988', '??-???-1988', '??-FEB-1989', '??-NOV-1989', '??-DEC-1989', '??-DEC-1989', '??-DEC-1989', '??-DEC-1989', '??-DEC-1989', '??-DEC-1989', '??-DEC-1989', '??-???-1989', '??-???-1989', '??-FEB-1990', '??-MAY-1990', '??-MAY-1990', '??-JUN-1990', '??-???-1990', '??-???-1990', '??-???-1990', '??-???-1990', '??-???-1990', '??-FEB-1991', '??-FEB-1991', '??-FEB-1991', '??-FEB-1991', '??-FEB-1991', '??-FEB-1991', '??-FEB-1991', '??-???-1991', '??-???-1991', '??-???-1991', '??-???-1991', '??-???-1991', '??-FEB-1992', '??-JUL-1992', '??-AUG-1992', '??-DEC-1992', '??-???-1992', '??-???-1992', '??-MAY-1993', '??-???-1993', '??-???-1993', '??-???-1993', '??-FEB-1994', '??-APR-1994', '??-JUL-1994', '??-JUL-1994', '??-SEP-1994', '??-OCT-1994', '??-???-1994', '??-???-1994', '??-???-1994', '??-JAN-1995', '??-MAY-1995', '??-JAN-1996', '??-SEP-1996', '??-NOV-1996', '??-DEC-1996', '??-???-1996', '??-???-1996', '??-???-1996', '??-???-1996', '??-FEB-1997', '??-MAY-1997', '??-???-1997', '??-???-1997', '??-???-1997', '??-???-1997', '??-???-1997', '??-???-1997', '??-???-1998', '??-???-1998', '??-???-1998', '??-???-1998', '??-???-1998', '??-???-1998', '??-???-1998', '??-???-1998', '??-MAY-1999', '??-JUN-1999', '??-JUL-1999', '??-AUG-1999', '??-OCT-1999', '??-???-1999', '??-FEB-2000', '??-MAR-2000', '??-???-2000', '??-JAN-2001', '??-JAN-2001', '??-MAY-2001', '??-OCT-2001', '??-OCT-2001', '??-OCT-2001', '??-OCT-2001', '??-OCT-2001', '??-OCT-2001', '??-OCT-2001', '??-OCT-2001', '??-DEC-2001', '??-???-2001', '??-???-2001', '??-???-2002', '??-???-2002', '??-???-2002', '??-MAR-2003', '??-JUN-2003', '??-JUL-2004', '??-SEP-2004', '??-???-2004', '??-???-2004', '??-FEB-2005', '??-JUN-2005', '??-JAN-2006', '??-MAR-2006', '??-JUN-2006', '??-OCT-2006', '??-???-2006', '??-???-2006', '??-AUG-2007', '??-OCT-2007', '??-???-2007', '??-???-2007', '??-???-2008', '??-AUG-2009', '??-MAY-2010', '??-???-2010', '??-SEP-2011', '??-OCT-2011', '??-???-2011', '??-SEP-2012', '??-???-2012', '??-MAY-2013', '??-OCT-2013', '??-???-2013', '??-AUG-2014', '??-???-2014', '??-???-2014', '??-MAR-2015', '??-OCT-2015', '??-OCT-2016', '??-???-2016', '??-???-2018', '??-JAN-2021', '??-JUN-2022']\n"
          ]
        },
        {
          "output_type": "stream",
          "name": "stderr",
          "text": [
            "<ipython-input-8-950976125849>:12: UserWarning: Could not infer format, so each element will be parsed individually, falling back to `dateutil`. To ensure parsing is consistent and as-expected, please specify a format.\n",
            "  date_col['date'] = pd.to_datetime(date_col['date']) # convert dates from strings to datetime\n",
            "<ipython-input-8-950976125849>:12: SettingWithCopyWarning: \n",
            "A value is trying to be set on a copy of a slice from a DataFrame.\n",
            "Try using .loc[row_indexer,col_indexer] = value instead\n",
            "\n",
            "See the caveats in the documentation: https://pandas.pydata.org/pandas-docs/stable/user_guide/indexing.html#returning-a-view-versus-a-copy\n",
            "  date_col['date'] = pd.to_datetime(date_col['date']) # convert dates from strings to datetime\n"
          ]
        }
      ]
    },
    {
      "cell_type": "code",
      "source": [
        "date_col.info() # Check the type of the data"
      ],
      "metadata": {
        "colab": {
          "base_uri": "https://localhost:8080/"
        },
        "id": "iVOTWFJY8zMS",
        "outputId": "6f59c438-fd93-4c4d-dcd8-0a590a13e00f"
      },
      "execution_count": 9,
      "outputs": [
        {
          "output_type": "stream",
          "name": "stdout",
          "text": [
            "<class 'pandas.core.frame.DataFrame'>\n",
            "Index: 23408 entries, 61 to 23966\n",
            "Data columns (total 1 columns):\n",
            " #   Column  Non-Null Count  Dtype         \n",
            "---  ------  --------------  -----         \n",
            " 0   date    23408 non-null  datetime64[ns]\n",
            "dtypes: datetime64[ns](1)\n",
            "memory usage: 365.8 KB\n"
          ]
        }
      ]
    },
    {
      "cell_type": "markdown",
      "source": [
        "### Fatalities operators"
      ],
      "metadata": {
        "id": "iHEshOKNbIi3"
      }
    },
    {
      "cell_type": "code",
      "source": [
        "clear_df[\"fatalities\"] = pd.to_numeric(df[\"fatalities\"], errors=\"coerce\") # convert the values to numbers, if this is not possible, transform them to null\n",
        "# correct mistakes\n",
        "clear_df[\"operator\"] = clear_df[\"operator\"].replace({\"USAF\": \"USAAF\"})\n",
        "clear_df[\"operator\"] = clear_df[\"operator\"].replace({\"RAF\": \"RAAF\"})\n",
        "clear_df[\"operator\"] = clear_df[\"operator\"].str.replace(r\"[^a-zA-Z0-9]\", \"\") # delete non-alphanumeric characters\n"
      ],
      "metadata": {
        "id": "1xNQhWGTCR2I"
      },
      "execution_count": 10,
      "outputs": []
    },
    {
      "cell_type": "markdown",
      "source": [
        "Create a DataFrame to analyze the fatalities and the operators"
      ],
      "metadata": {
        "id": "LebpgEknvmyf"
      }
    },
    {
      "cell_type": "code",
      "source": [
        "fatal_op_df= clear_df.loc[:,[\"operator\",\"fatalities\"]]\n"
      ],
      "metadata": {
        "id": "_DSxvfFnzLn-"
      },
      "execution_count": 11,
      "outputs": []
    },
    {
      "cell_type": "code",
      "source": [
        "fatal_op_df = fatal_op_df.dropna() # remove the null values\n",
        "fatal_op_df[\"fatalities\"]= fatal_op_df[\"fatalities\"].astype(int) # convert float to int\n",
        "fatal_op_df[\"fatalities\"].info()"
      ],
      "metadata": {
        "colab": {
          "base_uri": "https://localhost:8080/"
        },
        "id": "PsvlSzPuZxlZ",
        "outputId": "646c4dd6-6c14-4682-f46a-f882fa643d43"
      },
      "execution_count": 12,
      "outputs": [
        {
          "output_type": "stream",
          "name": "stdout",
          "text": [
            "<class 'pandas.core.series.Series'>\n",
            "Index: 19673 entries, 4 to 23966\n",
            "Series name: fatalities\n",
            "Non-Null Count  Dtype\n",
            "--------------  -----\n",
            "19673 non-null  int64\n",
            "dtypes: int64(1)\n",
            "memory usage: 307.4 KB\n"
          ]
        }
      ]
    },
    {
      "cell_type": "markdown",
      "source": [
        "### 11 september 2002"
      ],
      "metadata": {
        "id": "cMpQ9pqHBFZk"
      }
    },
    {
      "cell_type": "markdown",
      "source": [
        "Create a DataFrames to analyze changes before and after September 11, 2002"
      ],
      "metadata": {
        "id": "bzPp6zMW8i8X"
      }
    },
    {
      "cell_type": "code",
      "source": [
        "eleven_sept_df = clear_df.loc[:,[\"date\",\"fatalities\", \"country\",\"cat\"]]\n",
        "eleven_sept_df[\"date\"] = date_col[\"date\"]\n",
        "eleven_sept_df.info()"
      ],
      "metadata": {
        "colab": {
          "base_uri": "https://localhost:8080/"
        },
        "id": "xjDothaBBJW-",
        "outputId": "31817aec-513b-4099-d309-579e67ba4dcf"
      },
      "execution_count": 13,
      "outputs": [
        {
          "output_type": "stream",
          "name": "stdout",
          "text": [
            "<class 'pandas.core.frame.DataFrame'>\n",
            "RangeIndex: 23967 entries, 0 to 23966\n",
            "Data columns (total 4 columns):\n",
            " #   Column      Non-Null Count  Dtype         \n",
            "---  ------      --------------  -----         \n",
            " 0   date        23408 non-null  datetime64[ns]\n",
            " 1   fatalities  19676 non-null  float64       \n",
            " 2   country     23967 non-null  object        \n",
            " 3   cat         23967 non-null  object        \n",
            "dtypes: datetime64[ns](1), float64(1), object(2)\n",
            "memory usage: 749.1+ KB\n"
          ]
        }
      ]
    },
    {
      "cell_type": "code",
      "source": [
        "eleven_sept_after= eleven_sept_df[(eleven_sept_df[\"date\"] > \"2002-09-11\")]\n",
        "eleven_sept_before= eleven_sept_df[(eleven_sept_df[\"date\"] < \"2002-09-11\")]\n"
      ],
      "metadata": {
        "id": "OAYMnv4HEPWC"
      },
      "execution_count": 14,
      "outputs": []
    },
    {
      "cell_type": "code",
      "source": [
        "eleven_sept_82_02= eleven_sept_df[(eleven_sept_df[\"date\"] > \"1982-09-11\") & (eleven_sept_df[\"date\"] < \"2002-09-11\")]\n",
        "eleven_sept_82_02"
      ],
      "metadata": {
        "colab": {
          "base_uri": "https://localhost:8080/",
          "height": 423
        },
        "id": "0Ap-xge1IB84",
        "outputId": "cfa0c36f-e179-4ef2-b8d3-cf793509a975"
      },
      "execution_count": 15,
      "outputs": [
        {
          "output_type": "execute_result",
          "data": {
            "text/plain": [
              "            date  fatalities      country cat\n",
              "14847 1982-09-13        50.0        Spain  A1\n",
              "14848 1982-09-17         0.0        China  A1\n",
              "14849 1982-09-17         0.0          USA  A2\n",
              "14850 1982-09-18         5.0       Canada  A1\n",
              "14851 1982-09-18         3.0   Luxembourg  A1\n",
              "...          ...         ...          ...  ..\n",
              "19644 2002-09-03         0.0    Indonesia  A1\n",
              "19645 2002-09-04         0.0  Philippines  A1\n",
              "19646 2002-09-07         0.0      Bahamas  O1\n",
              "19647 2002-09-09         0.0   Seychelles  H2\n",
              "19648 2002-09-09         0.0   D.R. Congo  A1\n",
              "\n",
              "[4649 rows x 4 columns]"
            ],
            "text/html": [
              "\n",
              "  <div id=\"df-cf6db7ff-66a3-4670-8455-5ffb78089b16\" class=\"colab-df-container\">\n",
              "    <div>\n",
              "<style scoped>\n",
              "    .dataframe tbody tr th:only-of-type {\n",
              "        vertical-align: middle;\n",
              "    }\n",
              "\n",
              "    .dataframe tbody tr th {\n",
              "        vertical-align: top;\n",
              "    }\n",
              "\n",
              "    .dataframe thead th {\n",
              "        text-align: right;\n",
              "    }\n",
              "</style>\n",
              "<table border=\"1\" class=\"dataframe\">\n",
              "  <thead>\n",
              "    <tr style=\"text-align: right;\">\n",
              "      <th></th>\n",
              "      <th>date</th>\n",
              "      <th>fatalities</th>\n",
              "      <th>country</th>\n",
              "      <th>cat</th>\n",
              "    </tr>\n",
              "  </thead>\n",
              "  <tbody>\n",
              "    <tr>\n",
              "      <th>14847</th>\n",
              "      <td>1982-09-13</td>\n",
              "      <td>50.0</td>\n",
              "      <td>Spain</td>\n",
              "      <td>A1</td>\n",
              "    </tr>\n",
              "    <tr>\n",
              "      <th>14848</th>\n",
              "      <td>1982-09-17</td>\n",
              "      <td>0.0</td>\n",
              "      <td>China</td>\n",
              "      <td>A1</td>\n",
              "    </tr>\n",
              "    <tr>\n",
              "      <th>14849</th>\n",
              "      <td>1982-09-17</td>\n",
              "      <td>0.0</td>\n",
              "      <td>USA</td>\n",
              "      <td>A2</td>\n",
              "    </tr>\n",
              "    <tr>\n",
              "      <th>14850</th>\n",
              "      <td>1982-09-18</td>\n",
              "      <td>5.0</td>\n",
              "      <td>Canada</td>\n",
              "      <td>A1</td>\n",
              "    </tr>\n",
              "    <tr>\n",
              "      <th>14851</th>\n",
              "      <td>1982-09-18</td>\n",
              "      <td>3.0</td>\n",
              "      <td>Luxembourg</td>\n",
              "      <td>A1</td>\n",
              "    </tr>\n",
              "    <tr>\n",
              "      <th>...</th>\n",
              "      <td>...</td>\n",
              "      <td>...</td>\n",
              "      <td>...</td>\n",
              "      <td>...</td>\n",
              "    </tr>\n",
              "    <tr>\n",
              "      <th>19644</th>\n",
              "      <td>2002-09-03</td>\n",
              "      <td>0.0</td>\n",
              "      <td>Indonesia</td>\n",
              "      <td>A1</td>\n",
              "    </tr>\n",
              "    <tr>\n",
              "      <th>19645</th>\n",
              "      <td>2002-09-04</td>\n",
              "      <td>0.0</td>\n",
              "      <td>Philippines</td>\n",
              "      <td>A1</td>\n",
              "    </tr>\n",
              "    <tr>\n",
              "      <th>19646</th>\n",
              "      <td>2002-09-07</td>\n",
              "      <td>0.0</td>\n",
              "      <td>Bahamas</td>\n",
              "      <td>O1</td>\n",
              "    </tr>\n",
              "    <tr>\n",
              "      <th>19647</th>\n",
              "      <td>2002-09-09</td>\n",
              "      <td>0.0</td>\n",
              "      <td>Seychelles</td>\n",
              "      <td>H2</td>\n",
              "    </tr>\n",
              "    <tr>\n",
              "      <th>19648</th>\n",
              "      <td>2002-09-09</td>\n",
              "      <td>0.0</td>\n",
              "      <td>D.R. Congo</td>\n",
              "      <td>A1</td>\n",
              "    </tr>\n",
              "  </tbody>\n",
              "</table>\n",
              "<p>4649 rows × 4 columns</p>\n",
              "</div>\n",
              "    <div class=\"colab-df-buttons\">\n",
              "\n",
              "  <div class=\"colab-df-container\">\n",
              "    <button class=\"colab-df-convert\" onclick=\"convertToInteractive('df-cf6db7ff-66a3-4670-8455-5ffb78089b16')\"\n",
              "            title=\"Convert this dataframe to an interactive table.\"\n",
              "            style=\"display:none;\">\n",
              "\n",
              "  <svg xmlns=\"http://www.w3.org/2000/svg\" height=\"24px\" viewBox=\"0 -960 960 960\">\n",
              "    <path d=\"M120-120v-720h720v720H120Zm60-500h600v-160H180v160Zm220 220h160v-160H400v160Zm0 220h160v-160H400v160ZM180-400h160v-160H180v160Zm440 0h160v-160H620v160ZM180-180h160v-160H180v160Zm440 0h160v-160H620v160Z\"/>\n",
              "  </svg>\n",
              "    </button>\n",
              "\n",
              "  <style>\n",
              "    .colab-df-container {\n",
              "      display:flex;\n",
              "      gap: 12px;\n",
              "    }\n",
              "\n",
              "    .colab-df-convert {\n",
              "      background-color: #E8F0FE;\n",
              "      border: none;\n",
              "      border-radius: 50%;\n",
              "      cursor: pointer;\n",
              "      display: none;\n",
              "      fill: #1967D2;\n",
              "      height: 32px;\n",
              "      padding: 0 0 0 0;\n",
              "      width: 32px;\n",
              "    }\n",
              "\n",
              "    .colab-df-convert:hover {\n",
              "      background-color: #E2EBFA;\n",
              "      box-shadow: 0px 1px 2px rgba(60, 64, 67, 0.3), 0px 1px 3px 1px rgba(60, 64, 67, 0.15);\n",
              "      fill: #174EA6;\n",
              "    }\n",
              "\n",
              "    .colab-df-buttons div {\n",
              "      margin-bottom: 4px;\n",
              "    }\n",
              "\n",
              "    [theme=dark] .colab-df-convert {\n",
              "      background-color: #3B4455;\n",
              "      fill: #D2E3FC;\n",
              "    }\n",
              "\n",
              "    [theme=dark] .colab-df-convert:hover {\n",
              "      background-color: #434B5C;\n",
              "      box-shadow: 0px 1px 3px 1px rgba(0, 0, 0, 0.15);\n",
              "      filter: drop-shadow(0px 1px 2px rgba(0, 0, 0, 0.3));\n",
              "      fill: #FFFFFF;\n",
              "    }\n",
              "  </style>\n",
              "\n",
              "    <script>\n",
              "      const buttonEl =\n",
              "        document.querySelector('#df-cf6db7ff-66a3-4670-8455-5ffb78089b16 button.colab-df-convert');\n",
              "      buttonEl.style.display =\n",
              "        google.colab.kernel.accessAllowed ? 'block' : 'none';\n",
              "\n",
              "      async function convertToInteractive(key) {\n",
              "        const element = document.querySelector('#df-cf6db7ff-66a3-4670-8455-5ffb78089b16');\n",
              "        const dataTable =\n",
              "          await google.colab.kernel.invokeFunction('convertToInteractive',\n",
              "                                                    [key], {});\n",
              "        if (!dataTable) return;\n",
              "\n",
              "        const docLinkHtml = 'Like what you see? Visit the ' +\n",
              "          '<a target=\"_blank\" href=https://colab.research.google.com/notebooks/data_table.ipynb>data table notebook</a>'\n",
              "          + ' to learn more about interactive tables.';\n",
              "        element.innerHTML = '';\n",
              "        dataTable['output_type'] = 'display_data';\n",
              "        await google.colab.output.renderOutput(dataTable, element);\n",
              "        const docLink = document.createElement('div');\n",
              "        docLink.innerHTML = docLinkHtml;\n",
              "        element.appendChild(docLink);\n",
              "      }\n",
              "    </script>\n",
              "  </div>\n",
              "\n",
              "\n",
              "<div id=\"df-89e67728-3d97-451f-83b0-12fcacb7116d\">\n",
              "  <button class=\"colab-df-quickchart\" onclick=\"quickchart('df-89e67728-3d97-451f-83b0-12fcacb7116d')\"\n",
              "            title=\"Suggest charts\"\n",
              "            style=\"display:none;\">\n",
              "\n",
              "<svg xmlns=\"http://www.w3.org/2000/svg\" height=\"24px\"viewBox=\"0 0 24 24\"\n",
              "     width=\"24px\">\n",
              "    <g>\n",
              "        <path d=\"M19 3H5c-1.1 0-2 .9-2 2v14c0 1.1.9 2 2 2h14c1.1 0 2-.9 2-2V5c0-1.1-.9-2-2-2zM9 17H7v-7h2v7zm4 0h-2V7h2v10zm4 0h-2v-4h2v4z\"/>\n",
              "    </g>\n",
              "</svg>\n",
              "  </button>\n",
              "\n",
              "<style>\n",
              "  .colab-df-quickchart {\n",
              "      --bg-color: #E8F0FE;\n",
              "      --fill-color: #1967D2;\n",
              "      --hover-bg-color: #E2EBFA;\n",
              "      --hover-fill-color: #174EA6;\n",
              "      --disabled-fill-color: #AAA;\n",
              "      --disabled-bg-color: #DDD;\n",
              "  }\n",
              "\n",
              "  [theme=dark] .colab-df-quickchart {\n",
              "      --bg-color: #3B4455;\n",
              "      --fill-color: #D2E3FC;\n",
              "      --hover-bg-color: #434B5C;\n",
              "      --hover-fill-color: #FFFFFF;\n",
              "      --disabled-bg-color: #3B4455;\n",
              "      --disabled-fill-color: #666;\n",
              "  }\n",
              "\n",
              "  .colab-df-quickchart {\n",
              "    background-color: var(--bg-color);\n",
              "    border: none;\n",
              "    border-radius: 50%;\n",
              "    cursor: pointer;\n",
              "    display: none;\n",
              "    fill: var(--fill-color);\n",
              "    height: 32px;\n",
              "    padding: 0;\n",
              "    width: 32px;\n",
              "  }\n",
              "\n",
              "  .colab-df-quickchart:hover {\n",
              "    background-color: var(--hover-bg-color);\n",
              "    box-shadow: 0 1px 2px rgba(60, 64, 67, 0.3), 0 1px 3px 1px rgba(60, 64, 67, 0.15);\n",
              "    fill: var(--button-hover-fill-color);\n",
              "  }\n",
              "\n",
              "  .colab-df-quickchart-complete:disabled,\n",
              "  .colab-df-quickchart-complete:disabled:hover {\n",
              "    background-color: var(--disabled-bg-color);\n",
              "    fill: var(--disabled-fill-color);\n",
              "    box-shadow: none;\n",
              "  }\n",
              "\n",
              "  .colab-df-spinner {\n",
              "    border: 2px solid var(--fill-color);\n",
              "    border-color: transparent;\n",
              "    border-bottom-color: var(--fill-color);\n",
              "    animation:\n",
              "      spin 1s steps(1) infinite;\n",
              "  }\n",
              "\n",
              "  @keyframes spin {\n",
              "    0% {\n",
              "      border-color: transparent;\n",
              "      border-bottom-color: var(--fill-color);\n",
              "      border-left-color: var(--fill-color);\n",
              "    }\n",
              "    20% {\n",
              "      border-color: transparent;\n",
              "      border-left-color: var(--fill-color);\n",
              "      border-top-color: var(--fill-color);\n",
              "    }\n",
              "    30% {\n",
              "      border-color: transparent;\n",
              "      border-left-color: var(--fill-color);\n",
              "      border-top-color: var(--fill-color);\n",
              "      border-right-color: var(--fill-color);\n",
              "    }\n",
              "    40% {\n",
              "      border-color: transparent;\n",
              "      border-right-color: var(--fill-color);\n",
              "      border-top-color: var(--fill-color);\n",
              "    }\n",
              "    60% {\n",
              "      border-color: transparent;\n",
              "      border-right-color: var(--fill-color);\n",
              "    }\n",
              "    80% {\n",
              "      border-color: transparent;\n",
              "      border-right-color: var(--fill-color);\n",
              "      border-bottom-color: var(--fill-color);\n",
              "    }\n",
              "    90% {\n",
              "      border-color: transparent;\n",
              "      border-bottom-color: var(--fill-color);\n",
              "    }\n",
              "  }\n",
              "</style>\n",
              "\n",
              "  <script>\n",
              "    async function quickchart(key) {\n",
              "      const quickchartButtonEl =\n",
              "        document.querySelector('#' + key + ' button');\n",
              "      quickchartButtonEl.disabled = true;  // To prevent multiple clicks.\n",
              "      quickchartButtonEl.classList.add('colab-df-spinner');\n",
              "      try {\n",
              "        const charts = await google.colab.kernel.invokeFunction(\n",
              "            'suggestCharts', [key], {});\n",
              "      } catch (error) {\n",
              "        console.error('Error during call to suggestCharts:', error);\n",
              "      }\n",
              "      quickchartButtonEl.classList.remove('colab-df-spinner');\n",
              "      quickchartButtonEl.classList.add('colab-df-quickchart-complete');\n",
              "    }\n",
              "    (() => {\n",
              "      let quickchartButtonEl =\n",
              "        document.querySelector('#df-89e67728-3d97-451f-83b0-12fcacb7116d button');\n",
              "      quickchartButtonEl.style.display =\n",
              "        google.colab.kernel.accessAllowed ? 'block' : 'none';\n",
              "    })();\n",
              "  </script>\n",
              "</div>\n",
              "\n",
              "  <div id=\"id_81bb12cb-be2c-4717-ab76-df6d00beeed2\">\n",
              "    <style>\n",
              "      .colab-df-generate {\n",
              "        background-color: #E8F0FE;\n",
              "        border: none;\n",
              "        border-radius: 50%;\n",
              "        cursor: pointer;\n",
              "        display: none;\n",
              "        fill: #1967D2;\n",
              "        height: 32px;\n",
              "        padding: 0 0 0 0;\n",
              "        width: 32px;\n",
              "      }\n",
              "\n",
              "      .colab-df-generate:hover {\n",
              "        background-color: #E2EBFA;\n",
              "        box-shadow: 0px 1px 2px rgba(60, 64, 67, 0.3), 0px 1px 3px 1px rgba(60, 64, 67, 0.15);\n",
              "        fill: #174EA6;\n",
              "      }\n",
              "\n",
              "      [theme=dark] .colab-df-generate {\n",
              "        background-color: #3B4455;\n",
              "        fill: #D2E3FC;\n",
              "      }\n",
              "\n",
              "      [theme=dark] .colab-df-generate:hover {\n",
              "        background-color: #434B5C;\n",
              "        box-shadow: 0px 1px 3px 1px rgba(0, 0, 0, 0.15);\n",
              "        filter: drop-shadow(0px 1px 2px rgba(0, 0, 0, 0.3));\n",
              "        fill: #FFFFFF;\n",
              "      }\n",
              "    </style>\n",
              "    <button class=\"colab-df-generate\" onclick=\"generateWithVariable('eleven_sept_82_02')\"\n",
              "            title=\"Generate code using this dataframe.\"\n",
              "            style=\"display:none;\">\n",
              "\n",
              "  <svg xmlns=\"http://www.w3.org/2000/svg\" height=\"24px\"viewBox=\"0 0 24 24\"\n",
              "       width=\"24px\">\n",
              "    <path d=\"M7,19H8.4L18.45,9,17,7.55,7,17.6ZM5,21V16.75L18.45,3.32a2,2,0,0,1,2.83,0l1.4,1.43a1.91,1.91,0,0,1,.58,1.4,1.91,1.91,0,0,1-.58,1.4L9.25,21ZM18.45,9,17,7.55Zm-12,3A5.31,5.31,0,0,0,4.9,8.1,5.31,5.31,0,0,0,1,6.5,5.31,5.31,0,0,0,4.9,4.9,5.31,5.31,0,0,0,6.5,1,5.31,5.31,0,0,0,8.1,4.9,5.31,5.31,0,0,0,12,6.5,5.46,5.46,0,0,0,6.5,12Z\"/>\n",
              "  </svg>\n",
              "    </button>\n",
              "    <script>\n",
              "      (() => {\n",
              "      const buttonEl =\n",
              "        document.querySelector('#id_81bb12cb-be2c-4717-ab76-df6d00beeed2 button.colab-df-generate');\n",
              "      buttonEl.style.display =\n",
              "        google.colab.kernel.accessAllowed ? 'block' : 'none';\n",
              "\n",
              "      buttonEl.onclick = () => {\n",
              "        google.colab.notebook.generateWithVariable('eleven_sept_82_02');\n",
              "      }\n",
              "      })();\n",
              "    </script>\n",
              "  </div>\n",
              "\n",
              "    </div>\n",
              "  </div>\n"
            ],
            "application/vnd.google.colaboratory.intrinsic+json": {
              "type": "dataframe",
              "variable_name": "eleven_sept_82_02",
              "summary": "{\n  \"name\": \"eleven_sept_82_02\",\n  \"rows\": 4649,\n  \"fields\": [\n    {\n      \"column\": \"date\",\n      \"properties\": {\n        \"dtype\": \"date\",\n        \"min\": \"1982-09-13 00:00:00\",\n        \"max\": \"2002-09-09 00:00:00\",\n        \"num_unique_values\": 3318,\n        \"samples\": [\n          \"1990-09-16 00:00:00\",\n          \"1996-07-20 00:00:00\",\n          \"1998-07-13 00:00:00\"\n        ],\n        \"semantic_type\": \"\",\n        \"description\": \"\"\n      }\n    },\n    {\n      \"column\": \"fatalities\",\n      \"properties\": {\n        \"dtype\": \"number\",\n        \"std\": 24.677761290475022,\n        \"min\": 0.0,\n        \"max\": 520.0,\n        \"num_unique_values\": 141,\n        \"samples\": [\n          183.0,\n          68.0,\n          130.0\n        ],\n        \"semantic_type\": \"\",\n        \"description\": \"\"\n      }\n    },\n    {\n      \"column\": \"country\",\n      \"properties\": {\n        \"dtype\": \"category\",\n        \"num_unique_values\": 199,\n        \"samples\": [\n          \"Sweden\",\n          \"Panama\",\n          \"Singapore\"\n        ],\n        \"semantic_type\": \"\",\n        \"description\": \"\"\n      }\n    },\n    {\n      \"column\": \"cat\",\n      \"properties\": {\n        \"dtype\": \"category\",\n        \"num_unique_values\": 10,\n        \"samples\": [\n          \"C2\",\n          \"A2\",\n          \"O1\"\n        ],\n        \"semantic_type\": \"\",\n        \"description\": \"\"\n      }\n    }\n  ]\n}"
            }
          },
          "metadata": {},
          "execution_count": 15
        }
      ]
    },
    {
      "cell_type": "code",
      "source": [
        "eleven_sept_df_countries = eleven_sept_df[eleven_sept_df[\"country\"] != \"Unknown country\"]\n"
      ],
      "metadata": {
        "id": "Ywki5ezTKMna"
      },
      "execution_count": 16,
      "outputs": []
    },
    {
      "cell_type": "markdown",
      "source": [
        "### Remove the null values"
      ],
      "metadata": {
        "id": "qKGQIAwQ-VEI"
      }
    },
    {
      "cell_type": "code",
      "source": [
        "dropna_df= clear_df.loc[:,[\"registration\",\"operator\", \"location\"]]  # create a dataframe with columns that have null values that we will analyze individually"
      ],
      "metadata": {
        "id": "wO3a2p3jBs2M"
      },
      "execution_count": 17,
      "outputs": []
    },
    {
      "cell_type": "markdown",
      "source": [
        "Isolate each column and remove null data"
      ],
      "metadata": {
        "id": "iJAygS2Isuj-"
      }
    },
    {
      "cell_type": "code",
      "source": [
        "def clean_columns(df):\n",
        "    for col in df.columns:\n",
        "        col_name = col[:3] + \"_col\"\n",
        "        dropna_column = df[col].dropna()\n",
        "        globals()[col_name] = pd.DataFrame({col: dropna_column})\n",
        "        print(\"New DataFrame created: \" + col_name)\n",
        "\n",
        "clean_columns(dropna_df)\n",
        "\n",
        "\n"
      ],
      "metadata": {
        "colab": {
          "base_uri": "https://localhost:8080/"
        },
        "id": "xFEqGfnvrDQK",
        "outputId": "6be493e3-cf62-484f-e714-6961047975e6"
      },
      "execution_count": 18,
      "outputs": [
        {
          "output_type": "stream",
          "name": "stdout",
          "text": [
            "New DataFrame created: reg_col\n",
            "New DataFrame created: ope_col\n",
            "New DataFrame created: loc_col\n"
          ]
        }
      ]
    },
    {
      "cell_type": "markdown",
      "source": [
        "### Fatalities Type"
      ],
      "metadata": {
        "id": "kROYi6hQARX5"
      }
    },
    {
      "cell_type": "markdown",
      "source": [
        "Create a DataFrame to analyze the fatalities and the type"
      ],
      "metadata": {
        "id": "B8Qir_n47Z2Y"
      }
    },
    {
      "cell_type": "code",
      "source": [
        "fatal_type_df= clear_df.loc[:,[\"type\",\"fatalities\"]]\n",
        "fatal_type_df = fatal_type_df.dropna()\n",
        "fatal_type_df[\"fatalities\"]= fatal_type_df[\"fatalities\"].astype(int)\n",
        "fatal_type_df.info()\n"
      ],
      "metadata": {
        "colab": {
          "base_uri": "https://localhost:8080/"
        },
        "id": "PdHZDBSYAQh8",
        "outputId": "e960a64d-6444-4e0a-b7b9-49d8dcc6cf34"
      },
      "execution_count": 19,
      "outputs": [
        {
          "output_type": "stream",
          "name": "stdout",
          "text": [
            "<class 'pandas.core.frame.DataFrame'>\n",
            "Index: 19676 entries, 4 to 23966\n",
            "Data columns (total 2 columns):\n",
            " #   Column      Non-Null Count  Dtype \n",
            "---  ------      --------------  ----- \n",
            " 0   type        19676 non-null  object\n",
            " 1   fatalities  19676 non-null  int64 \n",
            "dtypes: int64(1), object(1)\n",
            "memory usage: 461.2+ KB\n"
          ]
        }
      ]
    },
    {
      "cell_type": "markdown",
      "source": [
        "## Year Column"
      ],
      "metadata": {
        "id": "nZ2zzRsQLzfW"
      }
    },
    {
      "cell_type": "code",
      "source": [
        "crashes_in_years = clear_df.loc[:,[\"year\"]]\n",
        "crashes_in_years.info()\n"
      ],
      "metadata": {
        "colab": {
          "base_uri": "https://localhost:8080/"
        },
        "id": "IQwXbpz2_7V4",
        "outputId": "829a5052-2036-4b4b-9673-07bf70ec798f"
      },
      "execution_count": 20,
      "outputs": [
        {
          "output_type": "stream",
          "name": "stdout",
          "text": [
            "<class 'pandas.core.frame.DataFrame'>\n",
            "RangeIndex: 23967 entries, 0 to 23966\n",
            "Data columns (total 1 columns):\n",
            " #   Column  Non-Null Count  Dtype \n",
            "---  ------  --------------  ----- \n",
            " 0   year    23967 non-null  object\n",
            "dtypes: object(1)\n",
            "memory usage: 187.4+ KB\n"
          ]
        }
      ]
    },
    {
      "cell_type": "code",
      "source": [
        "crashes_in_years[\"year\"].unique()"
      ],
      "metadata": {
        "colab": {
          "base_uri": "https://localhost:8080/"
        },
        "id": "5Xr_lemVL4KG",
        "outputId": "919e32c3-9bf0-49c5-df56-60d869595fd6"
      },
      "execution_count": 21,
      "outputs": [
        {
          "output_type": "execute_result",
          "data": {
            "text/plain": [
              "array(['unknown', '1919', '1920', '1921', '1922', '1923', '1924', '1925',\n",
              "       '1926', '1927', '1928', '1929', '1930', '1931', '1932', '1933',\n",
              "       '1934', '1935', '1936', '1937', '1938', '1939', '1940', '1941',\n",
              "       '1942', '1943', '1944', '1945', '1946', '1947', '1948', '1949',\n",
              "       '1950', '1951', '1952', '1953', '1954', '1955', '1956', '1957',\n",
              "       '1958', '1959', '1960', '1961', '1962', '1963', '1964', '1965',\n",
              "       '1966', '1967', '1968', '1969', '1970', '1971', '1972', '1973',\n",
              "       '1974', '1975', '1976', '1977', '1978', '1979', '1980', '1981',\n",
              "       '1982', '1983', '1984', '1985', '1986', '1987', '1988', '1989',\n",
              "       '1990', '1991', '1992', '1993', '1994', '1995', '1996', '1997',\n",
              "       '1998', '1999', '2000', '2001', '2002', '2003', '2004', '2005',\n",
              "       '2006', '2007', '2008', '2009', '2010', '2011', '2012', '2013',\n",
              "       '2014', '2015', '2016', '2017', '2018', '2019', '2020', '2021',\n",
              "       '2022', '2023'], dtype=object)"
            ]
          },
          "metadata": {},
          "execution_count": 21
        }
      ]
    },
    {
      "cell_type": "code",
      "source": [
        "crashes_in_years[\"year\"] =  pd.to_numeric(crashes_in_years[\"year\"], errors=\"coerce\")\n"
      ],
      "metadata": {
        "id": "UVL4jfHLL48E"
      },
      "execution_count": 22,
      "outputs": []
    },
    {
      "cell_type": "code",
      "source": [
        "crashes_in_years = crashes_in_years.dropna()\n",
        "crashes_in_years[\"year\"] = crashes_in_years[\"year\"].astype(int)"
      ],
      "metadata": {
        "id": "6i8uaff1MdWm"
      },
      "execution_count": 23,
      "outputs": []
    },
    {
      "cell_type": "code",
      "source": [
        "crashes_in_years.info()"
      ],
      "metadata": {
        "colab": {
          "base_uri": "https://localhost:8080/"
        },
        "id": "BAgyNKmgMWsa",
        "outputId": "bc9b8d2e-9af1-4c6c-f4ac-2e1ecb4af2b1"
      },
      "execution_count": 24,
      "outputs": [
        {
          "output_type": "stream",
          "name": "stdout",
          "text": [
            "<class 'pandas.core.frame.DataFrame'>\n",
            "Index: 23906 entries, 61 to 23966\n",
            "Data columns (total 1 columns):\n",
            " #   Column  Non-Null Count  Dtype\n",
            "---  ------  --------------  -----\n",
            " 0   year    23906 non-null  int64\n",
            "dtypes: int64(1)\n",
            "memory usage: 373.5 KB\n"
          ]
        }
      ]
    },
    {
      "cell_type": "markdown",
      "source": [
        "# Analysis"
      ],
      "metadata": {
        "id": "tWUR7fH0v_1c"
      }
    },
    {
      "cell_type": "code",
      "source": [
        "plt.style.use(\"ggplot\")"
      ],
      "metadata": {
        "id": "lLhrtGNTii1s"
      },
      "execution_count": 143,
      "outputs": []
    },
    {
      "cell_type": "markdown",
      "source": [
        "### Countries with the least and most accidents"
      ],
      "metadata": {
        "id": "XXcXCS9gwYIq"
      }
    },
    {
      "cell_type": "code",
      "source": [
        "df[\"country\"].unique() # Check countries\n"
      ],
      "metadata": {
        "id": "LFLPJzPmwdHm",
        "colab": {
          "base_uri": "https://localhost:8080/"
        },
        "outputId": "9688d18f-e75d-49d0-e174-5529a68da07c"
      },
      "execution_count": 71,
      "outputs": [
        {
          "output_type": "execute_result",
          "data": {
            "text/plain": [
              "array(['Unknown country', 'Russia', 'Eritrea', 'Libya', 'Poland', '?',\n",
              "       'India', 'Bulgaria', 'Bahamas', 'Zimbabwe', 'Mauritania', 'Cyprus',\n",
              "       'Mexico', 'New Caledonia', 'Honduras', 'Peru', 'Kenya',\n",
              "       'Antarctica', 'Latvia', 'Yemen', 'Ukraine', 'France', 'Liberia',\n",
              "       'Italy', 'U.K.', 'South Africa', 'Sudan', 'Sweden', 'Cuba',\n",
              "       'Belgium', 'China', 'Atlantic Ocean', 'Netherlands', 'Germany',\n",
              "       'USA', 'Iran', 'Chile', 'Israel', 'Argentina', 'P.N. Guinea',\n",
              "       'Nicaragua', 'Czech Rep.', 'Dominican Rep.', 'Brazil',\n",
              "       'Mediterranean Sea', 'Indonesia', 'Egypt', 'Bolivia', 'Spain',\n",
              "       'Australia', 'Iraq', 'Guatemala', 'Malta', 'Colombia',\n",
              "       'Switzerland', 'Austria', 'Uganda', 'Trinidad & Tobago', 'Norway',\n",
              "       'Greece', 'Algeria', 'Pakistan', 'Panama', 'Romania', 'Morocco',\n",
              "       'Pacific Ocean', 'Hungary', 'Jamaica', 'Japan', 'Canada', 'Gambia',\n",
              "       'Thailand', 'Philippines', 'Ecuador', 'Puerto Rico', 'Venezuela',\n",
              "       'Mozambique', 'Singapore', 'Myanmar', 'Djibouti', 'Gibraltar',\n",
              "       'Costa Rica', 'Indian Ocean', 'Denmark', 'Finland', 'Estonia',\n",
              "       'Vietnam', 'Tanzania', 'Iceland', 'Benin', 'Portugal',\n",
              "       'Uzbekistan', 'Ethiopia', 'North Macedonia', 'Nigeria', 'Belarus',\n",
              "       'Turkmenistan', 'Sierra Leone', 'Ireland', 'Hong Kong',\n",
              "       'Kazakhstan', 'Bangladesh', 'Taiwan', 'Saint Lucia',\n",
              "       'U.S. M.O. Islands', 'Vanuatu', 'Turkey', 'Serbia', 'Greenland',\n",
              "       'French Polynesia', 'C.A.R.', 'Bermuda', 'Mali', 'Suriname',\n",
              "       'Tunisia', 'Kiribati', 'Ghana', 'Armenia', 'Solomon Isl.',\n",
              "       'Somalia', 'St. Helena', 'U.A.E.', 'Oman', 'New Zealand',\n",
              "       'Croatia', 'Fiji', 'Montenegro', 'Albania', 'Sri Lanka', 'Guyana',\n",
              "       'Maldives', 'Bahrain', 'Slovakia', 'Palau', 'Micronesia',\n",
              "       'Marshall Isl.', 'Azerbaijan', 'Guam', 'Luxembourg', 'Senegal',\n",
              "       'D.R. Congo', 'Bhutan', 'Eq. Guinea', 'Bosnia',\n",
              "       'Northern Mariana Isl', 'Malaysia', 'Tajikistan', 'Cocos Isl.',\n",
              "       'Martinique', 'Uruguay', 'Cambodia', 'Tuvalu', 'Lebanon',\n",
              "       \"Cote d'Ivoire\", 'Madagascar', 'South Korea', 'Nepal', 'Slovenia',\n",
              "       'Zambia', 'Georgia', 'South Sudan', 'El Salvador', 'Niger',\n",
              "       'Syria', 'Cameroon', 'U.S. Virgin Isl.', 'Burkina Faso', 'Angola',\n",
              "       'North Korea', 'Saudi Arabia', 'Arctic Ocean', 'Samoa', 'Laos',\n",
              "       'Jordan', 'Chad', 'Cayman Isl.', 'Christmas Isl.', 'Kuwait',\n",
              "       'Paraguay', 'Malawi', 'Haiti', 'St. Kitts & Nevis', 'Cape Verde',\n",
              "       'Lithuania', 'Mauritius', 'St.Pierre & Miquelon', 'CuraÃ§ao',\n",
              "       'Afghanistan', 'Belize', 'Guadeloupe', 'Sao Tome',\n",
              "       'Turks & Caicos', 'Mongolia', 'Moldova', 'Botswana', 'Kyrgyzstan',\n",
              "       'Montserrat', 'Falkland Isl.', 'Comoros', 'Reunion', 'Namibia',\n",
              "       'Guinea-Bissau', 'B.V.I.', 'Gabon', 'Monaco', 'Sint Maarten',\n",
              "       'Togo', 'American Samoa', 'Timor', 'Tonga', 'Seychelles', 'Aruba',\n",
              "       'Barbados', 'Qatar', 'Western Sahara', 'Congo', 'Guinea',\n",
              "       'Lesotho', 'St. Vincent', 'Rwanda', 'Cook Isl.', 'Dominica',\n",
              "       'French Guiana', 'Antigua', 'Norfolk Island', 'Kosovo', 'Anguilla',\n",
              "       'Saint BarthÃ©lemy', 'Burundi', 'Eswatini', \"Caribbean Neth'lands\",\n",
              "       'Macau'], dtype=object)"
            ]
          },
          "metadata": {},
          "execution_count": 71
        }
      ]
    },
    {
      "cell_type": "code",
      "source": [
        "df_countries = df[df[\"country\"] != \"Unknown country\"] # Remove the unknown values"
      ],
      "metadata": {
        "id": "2wHTVT8K-QUe"
      },
      "execution_count": 26,
      "outputs": []
    },
    {
      "cell_type": "markdown",
      "source": [
        "Count the countries with the least and most accidents"
      ],
      "metadata": {
        "id": "0xLpP8d0-TiZ"
      }
    },
    {
      "cell_type": "code",
      "source": [
        "country_counts= df_countries[\"country\"].value_counts()\n",
        "top_countries = country_counts.sort_values(ascending=True)\n",
        "worst_countries = country_counts.head(10)\n"
      ],
      "metadata": {
        "id": "mjUeByAbKc-2"
      },
      "execution_count": 27,
      "outputs": []
    },
    {
      "cell_type": "code",
      "source": [
        "n= 0\n",
        "for i in country_counts.values:\n",
        "  if i == 1:\n",
        "    n +=1\n",
        "  else: continue\n",
        "\n",
        "print(\"Number of countries with only one crash is:\",n)"
      ],
      "metadata": {
        "colab": {
          "base_uri": "https://localhost:8080/"
        },
        "id": "O-GeGqzKuQ4V",
        "outputId": "e0f35912-81e7-4a28-c502-749178ec3d16"
      },
      "execution_count": 28,
      "outputs": [
        {
          "output_type": "stream",
          "name": "stdout",
          "text": [
            "Number of countries with only one crash is: 13\n"
          ]
        }
      ]
    },
    {
      "cell_type": "code",
      "source": [
        "top_countries = top_countries.head(13)\n",
        "print( \"Countries with only one plane crash:\\n\",top_countries)"
      ],
      "metadata": {
        "colab": {
          "base_uri": "https://localhost:8080/"
        },
        "id": "YRgjBEgOtc6K",
        "outputId": "8667ac49-39a7-4097-e1a6-69eb7b2923e4"
      },
      "execution_count": 138,
      "outputs": [
        {
          "output_type": "stream",
          "name": "stdout",
          "text": [
            "Countries with only one plane crash:\n",
            " country\n",
            "Macau             1\n",
            "Eswatini          1\n",
            "Burundi           1\n",
            "Kosovo            1\n",
            "Guinea-Bissau     1\n",
            "French Guiana     1\n",
            "Monaco            1\n",
            "Tuvalu            1\n",
            "Tonga             1\n",
            "Mauritius         1\n",
            "Cook Isl.         1\n",
            "Reunion           1\n",
            "Christmas Isl.    1\n",
            "Name: count, dtype: int64\n"
          ]
        }
      ]
    },
    {
      "cell_type": "code",
      "source": [
        "plt.bar(worst_countries.index, worst_countries.values)\n",
        "plt.rcParams[\"figure.figsize\"] = [10,6]\n",
        "\n",
        "plt.ylabel(\"Number of crashes\")\n",
        "plt.title(\"The 10 countries with the most plane crashes\")\n",
        "\n",
        "for i, count in enumerate(worst_countries.values):\n",
        "    plt.text(i, count, str(count), ha=\"center\", va=\"bottom\")\n",
        "\n",
        "first = plt.bar(worst_countries.index, worst_countries.values)\n",
        "first[0].set_color(\"red\")\n",
        "\n",
        "plt.show()"
      ],
      "metadata": {
        "colab": {
          "base_uri": "https://localhost:8080/",
          "height": 541
        },
        "id": "o3Q5gyfEMuoy",
        "outputId": "2585e53d-1dbe-40a8-d84a-20b79d0baa81"
      },
      "execution_count": 144,
      "outputs": [
        {
          "output_type": "display_data",
          "data": {
            "text/plain": [
              "<Figure size 1000x600 with 1 Axes>"
            ],
            "image/png": "[encoded data removed]"
          },
          "metadata": {}
        }
      ]
    },
    {
      "cell_type": "markdown",
      "source": [
        "### Accidents in weekdays"
      ],
      "metadata": {
        "id": "xHIcxyHpWo84"
      }
    },
    {
      "cell_type": "code",
      "source": [
        "date_col.info()"
      ],
      "metadata": {
        "colab": {
          "base_uri": "https://localhost:8080/"
        },
        "id": "Sof-8mvjWuTA",
        "outputId": "a4bea1c4-ba0c-4432-9a6d-3ca09a74cf22"
      },
      "execution_count": 31,
      "outputs": [
        {
          "output_type": "stream",
          "name": "stdout",
          "text": [
            "<class 'pandas.core.frame.DataFrame'>\n",
            "Index: 23408 entries, 61 to 23966\n",
            "Data columns (total 1 columns):\n",
            " #   Column  Non-Null Count  Dtype         \n",
            "---  ------  --------------  -----         \n",
            " 0   date    23408 non-null  datetime64[ns]\n",
            "dtypes: datetime64[ns](1)\n",
            "memory usage: 881.8 KB\n"
          ]
        }
      ]
    },
    {
      "cell_type": "code",
      "source": [
        "import calendar\n",
        "\n",
        "date_col[\"weekday\"] = date_col[\"date\"].dt.weekday # Create a colmumn with a number representing a day\n",
        "date_col[\"weekday\"] = date_col[\"weekday\"].apply(lambda x: calendar.day_name[x]) # Replace the number with the name of the day\n",
        "\n",
        "days_counts= date_col[\"weekday\"].value_counts()\n",
        "days_counts"
      ],
      "metadata": {
        "colab": {
          "base_uri": "https://localhost:8080/"
        },
        "id": "fUVhDw_xXEX8",
        "outputId": "617232b7-c732-40b0-a6f0-2da0d55f0baa"
      },
      "execution_count": 74,
      "outputs": [
        {
          "output_type": "stream",
          "name": "stderr",
          "text": [
            "<ipython-input-74-01f8de88f3d7>:3: SettingWithCopyWarning: \n",
            "A value is trying to be set on a copy of a slice from a DataFrame.\n",
            "Try using .loc[row_indexer,col_indexer] = value instead\n",
            "\n",
            "See the caveats in the documentation: https://pandas.pydata.org/pandas-docs/stable/user_guide/indexing.html#returning-a-view-versus-a-copy\n",
            "  date_col[\"weekday\"] = date_col[\"date\"].dt.weekday # Create a colmumn with a number representing a day\n",
            "<ipython-input-74-01f8de88f3d7>:4: SettingWithCopyWarning: \n",
            "A value is trying to be set on a copy of a slice from a DataFrame.\n",
            "Try using .loc[row_indexer,col_indexer] = value instead\n",
            "\n",
            "See the caveats in the documentation: https://pandas.pydata.org/pandas-docs/stable/user_guide/indexing.html#returning-a-view-versus-a-copy\n",
            "  date_col[\"weekday\"] = date_col[\"weekday\"].apply(lambda x: calendar.day_name[x]) # Replace the number with the name of the day\n"
          ]
        },
        {
          "output_type": "execute_result",
          "data": {
            "text/plain": [
              "weekday\n",
              "Friday       3701\n",
              "Thursday     3516\n",
              "Wednesday    3491\n",
              "Tuesday      3444\n",
              "Monday       3317\n",
              "Saturday     3186\n",
              "Sunday       2753\n",
              "Name: count, dtype: int64"
            ]
          },
          "metadata": {},
          "execution_count": 74
        }
      ]
    },
    {
      "cell_type": "code",
      "source": [
        "ordered_days = [\"Monday\", \"Tuesday\", \"Wednesday\", \"Thursday\", \"Friday\", \"Sunday\", \"Saturday\"] # To order the weekdays\n",
        "days_counts = days_counts.reindex(ordered_days)"
      ],
      "metadata": {
        "id": "KP9odFuhdIYG"
      },
      "execution_count": 75,
      "outputs": []
    },
    {
      "cell_type": "code",
      "source": [
        "plt.bar(days_counts.index,days_counts.values)\n",
        "\n",
        "plt.title(\"Accidents on weekdays\")\n",
        "\n",
        "for i, count in enumerate(days_counts.values):\n",
        "    plt.text(i, count, str(count), ha=\"center\", va=\"bottom\")\n",
        "\n",
        "first_day = plt.bar(days_counts.index, days_counts.values)\n",
        "first_day[4].set_color(\"red\")\n",
        "\n",
        "plt.yticks(range(0,4500,1000))\n",
        "plt.show()"
      ],
      "metadata": {
        "colab": {
          "base_uri": "https://localhost:8080/",
          "height": 549
        },
        "id": "YNWoT-RxaTj-",
        "outputId": "57d4f4c7-602b-42fe-ce2d-b0998faf5f89"
      },
      "execution_count": 139,
      "outputs": [
        {
          "output_type": "display_data",
          "data": {
            "text/plain": [
              "<Figure size 1000x600 with 1 Axes>"
            ],
            "image/png": "[encoded data removed]"
          },
          "metadata": {}
        }
      ]
    },
    {
      "cell_type": "markdown",
      "source": [
        "## Accidents in months"
      ],
      "metadata": {
        "id": "mNbJ1JsrrGtW"
      }
    },
    {
      "cell_type": "code",
      "source": [
        "date_col[\"mounth\"] = date_col[\"date\"].dt.strftime(\"%B\") # Create a colmumn with the months\n",
        "\n",
        "months_counts= date_col[\"mounth\"].value_counts()\n",
        "\n",
        "\n",
        "ordered_months = [\"January\", \"February\", \"March\", \"April\", \"May\",\"June\", \"July\", \"August\", \"September\",\"October\", \"November\", \"December\" ] # order the weekdays\n",
        "months_counts = months_counts.reindex(ordered_months)\n",
        "\n",
        "months_counts"
      ],
      "metadata": {
        "colab": {
          "base_uri": "https://localhost:8080/"
        },
        "id": "9sp-Zre3rPVI",
        "outputId": "67f460cb-189c-452d-bd9a-ebe7f0113f25"
      },
      "execution_count": 35,
      "outputs": [
        {
          "output_type": "stream",
          "name": "stderr",
          "text": [
            "<ipython-input-35-b2917a982553>:1: SettingWithCopyWarning: \n",
            "A value is trying to be set on a copy of a slice from a DataFrame.\n",
            "Try using .loc[row_indexer,col_indexer] = value instead\n",
            "\n",
            "See the caveats in the documentation: https://pandas.pydata.org/pandas-docs/stable/user_guide/indexing.html#returning-a-view-versus-a-copy\n",
            "  date_col['mounth'] = date_col['date'].dt.strftime('%B') # Create a colmumn with the months\n"
          ]
        },
        {
          "output_type": "execute_result",
          "data": {
            "text/plain": [
              "mounth\n",
              "January      2086\n",
              "February     1736\n",
              "March        2075\n",
              "April        1875\n",
              "May          2020\n",
              "June         1889\n",
              "July         1971\n",
              "August       1914\n",
              "September    2074\n",
              "October      1809\n",
              "November     1889\n",
              "December     2070\n",
              "Name: count, dtype: int64"
            ]
          },
          "metadata": {},
          "execution_count": 35
        }
      ]
    },
    {
      "cell_type": "code",
      "source": [
        "plt.bar(months_counts.index,months_counts.values)\n",
        "\n",
        "plt.title(\"Accidents on Months\")\n",
        "\n",
        "for i, count in enumerate(months_counts.values):\n",
        "    plt.text(i, count, str(count), ha=\"center\", va=\"bottom\")\n",
        "\n",
        "first_month = plt.bar(months_counts.index, months_counts.values)\n",
        "first_month[0].set_color(\"red\")\n",
        "\n",
        "plt.yticks(range(0,3000,500))\n",
        "plt.xticks(rotation=35)\n",
        "\n",
        "plt.show()"
      ],
      "metadata": {
        "colab": {
          "base_uri": "https://localhost:8080/",
          "height": 586
        },
        "id": "bdRocqWxuXo8",
        "outputId": "45ec030d-5d7a-40b6-aa6e-ae3f7d4262cb"
      },
      "execution_count": 36,
      "outputs": [
        {
          "output_type": "display_data",
          "data": {
            "text/plain": [
              "<Figure size 1000x600 with 1 Axes>"
            ],
            "image/png": "[encoded data removed]"
          },
          "metadata": {}
        }
      ]
    },
    {
      "cell_type": "markdown",
      "source": [
        "## Operators"
      ],
      "metadata": {
        "id": "fHbgirFCqsHc"
      }
    },
    {
      "cell_type": "markdown",
      "source": [
        "To find the 10 operators with the most fatalities"
      ],
      "metadata": {
        "id": "DvH7jPuY2Z08"
      }
    },
    {
      "cell_type": "code",
      "source": [
        "fatal_op = fatal_op_df.groupby(\"operator\")[\"fatalities\"].sum()\n",
        "fatal_op= fatal_op.sort_values(ascending = False)\n",
        "fatal_op_ten = fatal_op.head(10)"
      ],
      "metadata": {
        "id": "EHtnwVLX19bn"
      },
      "execution_count": 78,
      "outputs": []
    },
    {
      "cell_type": "markdown",
      "source": [
        "Find the 10 operators with zero fatalities"
      ],
      "metadata": {
        "id": "HzujSRVT2rOV"
      }
    },
    {
      "cell_type": "code",
      "source": [
        "safe_op_ten = fatal_op.sort_values(ascending = True)"
      ],
      "metadata": {
        "id": "jnjIxH7W2PAs"
      },
      "execution_count": 79,
      "outputs": []
    },
    {
      "cell_type": "code",
      "source": [
        "n= 0\n",
        "for i in safe_op_ten:\n",
        "  if i == 0:\n",
        "    n +=1\n",
        "  else: continue\n",
        "\n",
        "print(\"The number of operators who caused zero fatalities is:\", n)\n"
      ],
      "metadata": {
        "colab": {
          "base_uri": "https://localhost:8080/"
        },
        "id": "x6ZxaiIL2M5B",
        "outputId": "90c23f88-af75-44a7-e79e-3f7b1d13fb3a"
      },
      "execution_count": 84,
      "outputs": [
        {
          "output_type": "stream",
          "name": "stdout",
          "text": [
            "The number of operators who caused zero fatalities is: 2953\n"
          ]
        }
      ]
    },
    {
      "cell_type": "code",
      "source": [
        "zero_fatal_op = safe_op_ten.head(2948)"
      ],
      "metadata": {
        "id": "MBedbYDJ2KQo"
      },
      "execution_count": 82,
      "outputs": []
    },
    {
      "cell_type": "markdown",
      "source": [
        "Count operator accidents"
      ],
      "metadata": {
        "id": "RpZy2jFj3g-G"
      }
    },
    {
      "cell_type": "code",
      "source": [
        "ope_col[\"operator\"] = ope_col[ope_col[\"operator\"] != \"Unknown\"]\n",
        "operator_counts= ope_col[\"operator\"].value_counts()\n",
        "operator_counts.sort_values()"
      ],
      "metadata": {
        "colab": {
          "base_uri": "https://localhost:8080/"
        },
        "id": "5xVlrTBx2Glk",
        "outputId": "61e848f5-d6f1-49af-ef86-5555c441d3b8"
      },
      "execution_count": 83,
      "outputs": [
        {
          "output_type": "execute_result",
          "data": {
            "text/plain": [
              "operator\n",
              "Wings Over Africa                        1\n",
              "Amazonese                                1\n",
              "Aerotechnia                              1\n",
              "Viking Int. Air Freight                  1\n",
              "Ansett Airlines of PNG, op.for TAA       1\n",
              "                                      ... \n",
              "private                                299\n",
              "German AF                              517\n",
              "US Navy                                745\n",
              "RAAF                                  1050\n",
              "USAAF                                 3724\n",
              "Name: count, Length: 6014, dtype: int64"
            ]
          },
          "metadata": {},
          "execution_count": 83
        }
      ]
    },
    {
      "cell_type": "markdown",
      "source": [
        "Operators with only one accident"
      ],
      "metadata": {
        "id": "UIN9Ybshh3cg"
      }
    },
    {
      "cell_type": "code",
      "source": [
        "n= 0\n",
        "for i in operator_counts:\n",
        "  if i == 1:\n",
        "    n +=1\n",
        "  else: continue\n",
        "\n",
        "print(\"The number of operators with only one crash:\", n)\n",
        "\n",
        "one_crash_op = operator_counts.sort_values().head(n)\n"
      ],
      "metadata": {
        "colab": {
          "base_uri": "https://localhost:8080/"
        },
        "id": "cuHmEqFz2D5i",
        "outputId": "7701fa0b-d3ec-4d0e-dee6-b31a416e5988"
      },
      "execution_count": 42,
      "outputs": [
        {
          "output_type": "stream",
          "name": "stdout",
          "text": [
            "The number of operators with only one crash: 4063\n"
          ]
        }
      ]
    },
    {
      "cell_type": "markdown",
      "source": [
        "Operators with the most accidents and fatalities"
      ],
      "metadata": {
        "id": "B9Cu7Lg1iPfz"
      }
    },
    {
      "cell_type": "code",
      "source": [
        "worst_operator = operator_counts.sort_values(ascending=False).head(10)\n",
        "worst_operator"
      ],
      "metadata": {
        "colab": {
          "base_uri": "https://localhost:8080/"
        },
        "id": "jAWGbxaRqwIC",
        "outputId": "91b76dfd-4fa9-47f0-b3be-e91069a0bbe5"
      },
      "execution_count": 43,
      "outputs": [
        {
          "output_type": "execute_result",
          "data": {
            "text/plain": [
              "operator\n",
              "USAAF                3724\n",
              "RAAF                 1050\n",
              "US Navy               745\n",
              "German AF             517\n",
              "private               299\n",
              "Aeroflot              198\n",
              "Soviet AF             142\n",
              "Air France            138\n",
              "American Airlines     116\n",
              "French AF             113\n",
              "Name: count, dtype: int64"
            ]
          },
          "metadata": {},
          "execution_count": 43
        }
      ]
    },
    {
      "cell_type": "code",
      "source": [
        "# First subplot\n",
        "plt.subplot(1,2,1)\n",
        "plt.bar(worst_operator.index, worst_operator.values)\n",
        "\n",
        "plt.ylabel(\"Number of accidents\")\n",
        "plt.title(\"The 10 operators with the most plane crashes\")\n",
        "plt.xticks(rotation=60)\n",
        "\n",
        "for i, count in enumerate(worst_operator.values):\n",
        "    plt.text(i, count, str(count), ha=\"center\", va=\"bottom\")\n",
        "\n",
        "worst_op = plt.bar(worst_operator.index, worst_operator.values)\n",
        "worst_op[0].set_color(\"Red\")\n",
        "\n",
        "# Second subplot\n",
        "plt.subplot(1,2,2)\n",
        "plt.bar(fatal_op_ten.index, fatal_op_ten.values)\n",
        "\n",
        "plt.ylabel(\"Number of fatalities\")\n",
        "plt.title(\" The 10 operators who caused the most fatalities\")\n",
        "plt.xticks(rotation=60)\n",
        "\n",
        "for i, count in enumerate(fatal_op_ten.values):\n",
        "    plt.text(i, count, str(count), ha=\"center\", va=\"bottom\")\n",
        "\n",
        "top_fatal = plt.bar(fatal_op_ten.index, fatal_op_ten.values)\n",
        "top_fatal[0].set_color(\"Red\")\n",
        "\n",
        "# layout and visualization\n",
        "plt.subplots_adjust(wspace=0.3) # Distance between the two plot\n",
        "plt.figure(figsize=(20, 5))\n",
        "plt.tight_layout()\n",
        "plt.show()\n"
      ],
      "metadata": {
        "colab": {
          "base_uri": "https://localhost:8080/",
          "height": 661
        },
        "id": "tfu-G57TjFG4",
        "outputId": "54f12082-9eaf-4ca4-b29b-9cc3b6409748"
      },
      "execution_count": 98,
      "outputs": [
        {
          "output_type": "display_data",
          "data": {
            "text/plain": [
              "<Figure size 1000x600 with 2 Axes>"
            ],
            "image/png": "[encoded data removed]"
          },
          "metadata": {}
        },
        {
          "output_type": "display_data",
          "data": {
            "text/plain": [
              "<Figure size 2000x500 with 0 Axes>"
            ]
          },
          "metadata": {}
        }
      ]
    },
    {
      "cell_type": "markdown",
      "source": [
        "Operators with zero fatalities and only one accident"
      ],
      "metadata": {
        "id": "G2aczX50jPze"
      }
    },
    {
      "cell_type": "code",
      "source": [
        "safe_op = list(one_crash_op.index[one_crash_op.index.isin(zero_fatal_op.index)])\n",
        "\n",
        "print(\"list of the operators who caused zero fatalities and only one crash: \")\n",
        "\n",
        "for i in safe_op:\n",
        "  print(\"-\",i)"
      ],
      "metadata": {
        "id": "BoiKOWHQ9QoR"
      },
      "execution_count": null,
      "outputs": []
    },
    {
      "cell_type": "markdown",
      "source": [
        "## Aircrafts"
      ],
      "metadata": {
        "id": "GCRP9wZO_9Rs"
      }
    },
    {
      "cell_type": "code",
      "source": [
        "fatal_type = fatal_type_df.groupby(\"type\")[\"fatalities\"].sum()\n",
        "\n",
        "#Aircrafts with the most fatalities\n",
        "fatal_type= fatal_type.sort_values(ascending = False)\n",
        "fatal_type_ten= fatal_type.head(10)\n"
      ],
      "metadata": {
        "id": "j7GH5S1IBzDD"
      },
      "execution_count": 99,
      "outputs": []
    },
    {
      "cell_type": "code",
      "source": [
        "plt.bar(fatal_type_ten.index, fatal_type_ten.values)\n",
        "\n",
        "plt.xlabel(\"aircraft\")\n",
        "plt.ylabel(\"Number of fatalities\")\n",
        "plt.title(\"The 10 aircraft which caused more fatalities\")\n",
        "plt.xticks(rotation=50)\n",
        "\n",
        "for i, count in enumerate(fatal_type_ten.values):\n",
        "    plt.text(i, count, str(count), ha=\"center\", va=\"bottom\")\n",
        "\n",
        "top_fatal_type = plt.bar(fatal_type_ten.index, fatal_type_ten.values)\n",
        "top_fatal_type[0].set_color(\"Red\")\n",
        "\n",
        "plt.show()"
      ],
      "metadata": {
        "colab": {
          "base_uri": "https://localhost:8080/",
          "height": 707
        },
        "id": "2WN-2G___9DQ",
        "outputId": "a83e3a05-a8a6-40b1-c23e-320e4841bbd0"
      },
      "execution_count": 134,
      "outputs": [
        {
          "output_type": "display_data",
          "data": {
            "text/plain": [
              "<Figure size 1000x600 with 1 Axes>"
            ],
            "image/png": "[encoded data removed]"
          },
          "metadata": {}
        }
      ]
    },
    {
      "cell_type": "markdown",
      "source": [
        "## Category Fatalities"
      ],
      "metadata": {
        "id": "MYAWsRBueLxX"
      }
    },
    {
      "cell_type": "code",
      "source": [
        "clear_df[\"cat\"].unique() # Check categories"
      ],
      "metadata": {
        "colab": {
          "base_uri": "https://localhost:8080/"
        },
        "id": "-X0XNx_BeRll",
        "outputId": "b1bcc4c5-9739-473c-d0cd-dbc6fd9a7c53"
      },
      "execution_count": 125,
      "outputs": [
        {
          "output_type": "execute_result",
          "data": {
            "text/plain": [
              "array(['U1', 'A1', 'A2', 'O1', 'H2', 'C1', 'C2', 'H1', 'O2', 'I2', 'I1'],\n",
              "      dtype=object)"
            ]
          },
          "metadata": {},
          "execution_count": 125
        }
      ]
    },
    {
      "cell_type": "markdown",
      "source": [
        "**Wich air accidents category caused more fatalities**"
      ],
      "metadata": {
        "id": "w6W9nD9YeZXv"
      }
    },
    {
      "cell_type": "code",
      "source": [
        "cat_fatal = clear_df.groupby(\"cat\")[\"fatalities\"].sum()\n",
        "cat_fatal"
      ],
      "metadata": {
        "colab": {
          "base_uri": "https://localhost:8080/"
        },
        "id": "rGUBGCuIeQLJ",
        "outputId": "3e7b2da1-0dd5-4731-c92d-9144dcdf1629"
      },
      "execution_count": 126,
      "outputs": [
        {
          "output_type": "execute_result",
          "data": {
            "text/plain": [
              "cat\n",
              "A1    110908.0\n",
              "A2       135.0\n",
              "C1      8699.0\n",
              "C2        52.0\n",
              "H1       746.0\n",
              "H2       176.0\n",
              "I1         0.0\n",
              "I2         0.0\n",
              "O1        11.0\n",
              "O2         2.0\n",
              "U1         0.0\n",
              "Name: fatalities, dtype: float64"
            ]
          },
          "metadata": {},
          "execution_count": 126
        }
      ]
    },
    {
      "cell_type": "markdown",
      "source": [
        "## After 11 september 2002"
      ],
      "metadata": {
        "id": "3RK5pdQDKwLo"
      }
    },
    {
      "cell_type": "markdown",
      "source": [
        "**Number of accidents before and after 11 september 2002**"
      ],
      "metadata": {
        "id": "cJVuenfxmJc4"
      }
    },
    {
      "cell_type": "code",
      "source": [
        "crashes_82_2002 = eleven_sept_82_02[\"date\"].value_counts().sum()\n",
        "crashes_after2002 = eleven_sept_after[\"date\"].value_counts().sum()\n",
        "print(f\" In the 20 years before 2002 there were {crashes_82_2002} air disasters, while in the following 20 years, until 2023, there were some {crashes_after2002}, therefore {crashes_82_2002 - crashes_after2002 } fewer accidents\")"
      ],
      "metadata": {
        "colab": {
          "base_uri": "https://localhost:8080/"
        },
        "id": "DWlOEaQoF4Pt",
        "outputId": "ed685aee-8a47-4362-c90a-e9ed1abbdbe4"
      },
      "execution_count": 48,
      "outputs": [
        {
          "output_type": "stream",
          "name": "stdout",
          "text": [
            " In the 20 years before 2002 there were 4649 air disasters, while in the following 20 years, until 2023, there were some 4275, therefore 374 fewer accidents\n"
          ]
        }
      ]
    },
    {
      "cell_type": "markdown",
      "source": [
        "**Accidents for countries before and after 2002**"
      ],
      "metadata": {
        "id": "DfMdAJZcmpzi"
      }
    },
    {
      "cell_type": "code",
      "source": [
        "country_counts2002= eleven_sept_df_countries[\"country\"].value_counts()\n",
        "top_countries2002 = country_counts2002.sort_values(ascending=True)\n",
        "worst_countries2002 = country_counts2002.head(10)"
      ],
      "metadata": {
        "id": "YI0NP7_bZh0y"
      },
      "execution_count": 107,
      "outputs": []
    },
    {
      "cell_type": "code",
      "source": [
        "country_counts_82_02 = eleven_sept_82_02[\"country\"].value_counts()\n",
        "worst_countries82_02 = country_counts_82_02.head(10)"
      ],
      "metadata": {
        "id": "EhlVOMG0Lc8F"
      },
      "execution_count": 112,
      "outputs": []
    },
    {
      "cell_type": "code",
      "source": [
        "worst_countries82_02"
      ],
      "metadata": {
        "colab": {
          "base_uri": "https://localhost:8080/"
        },
        "id": "xUQjrlD1LyYV",
        "outputId": "e85f0061-1ef6-42e7-cc2a-b6b14ec5b742"
      },
      "execution_count": 109,
      "outputs": [
        {
          "output_type": "execute_result",
          "data": {
            "text/plain": [
              "country\n",
              "USA          911\n",
              "Russia       361\n",
              "Canada       209\n",
              "Brazil       129\n",
              "Colombia     122\n",
              "Indonesia    122\n",
              "Angola        92\n",
              "Mexico        89\n",
              "U.K.          88\n",
              "France        83\n",
              "Name: count, dtype: int64"
            ]
          },
          "metadata": {},
          "execution_count": 109
        }
      ]
    },
    {
      "cell_type": "code",
      "source": [
        "country_counts_after_2002 = eleven_sept_after[\"country\"].value_counts()\n",
        "top_countries_after_2002 = country_counts_after_2002.sort_values(ascending=True)\n",
        "worst_countries_after_2002 = country_counts_after_2002.head(10)"
      ],
      "metadata": {
        "id": "lOliiHDPL-F-"
      },
      "execution_count": 110,
      "outputs": []
    },
    {
      "cell_type": "code",
      "source": [
        "worst_countries_after_2002"
      ],
      "metadata": {
        "colab": {
          "base_uri": "https://localhost:8080/"
        },
        "id": "P8uy0yXkMRbz",
        "outputId": "3a8095f0-1b5c-473c-e552-89801176a67b"
      },
      "execution_count": 111,
      "outputs": [
        {
          "output_type": "execute_result",
          "data": {
            "text/plain": [
              "country\n",
              "USA           996\n",
              "Canada        234\n",
              "Russia        214\n",
              "Indonesia     135\n",
              "Venezuela     115\n",
              "Brazil        110\n",
              "D.R. Congo    109\n",
              "Mexico        105\n",
              "U.K.           93\n",
              "Colombia       78\n",
              "Name: count, dtype: int64"
            ]
          },
          "metadata": {},
          "execution_count": 111
        }
      ]
    },
    {
      "cell_type": "markdown",
      "source": [
        "The USA remains the country with the most plane crashes"
      ],
      "metadata": {
        "id": "ayyHH-xVNH21"
      }
    },
    {
      "cell_type": "markdown",
      "source": [
        "**Fatalities by country**"
      ],
      "metadata": {
        "id": "bMkIM_31p-xB"
      }
    },
    {
      "cell_type": "code",
      "source": [
        "countries_fatal_after2002 = eleven_sept_after.loc[:,[\"country\", \"fatalities\"]]\n",
        "countries_fatal_after2002 = countries_fatal_after2002.groupby(\"country\")[\"fatalities\"].sum()\n",
        "countries_fatal_after2002 = countries_fatal_after2002.sort_values(ascending= False)"
      ],
      "metadata": {
        "id": "6oPbqzd8O_qY"
      },
      "execution_count": 113,
      "outputs": []
    },
    {
      "cell_type": "code",
      "source": [
        "countries_fatal_after2002.head(10)"
      ],
      "metadata": {
        "id": "moYEhQGJRw_b",
        "colab": {
          "base_uri": "https://localhost:8080/"
        },
        "outputId": "0c43eea5-dd68-42c5-b810-c8dbef9969b2"
      },
      "execution_count": 114,
      "outputs": [
        {
          "output_type": "execute_result",
          "data": {
            "text/plain": [
              "country\n",
              "Russia       1314.0\n",
              "Iran          991.0\n",
              "Indonesia     908.0\n",
              "USA           633.0\n",
              "Ukraine       582.0\n",
              "Algeria       444.0\n",
              "Pakistan      410.0\n",
              "Egypt         392.0\n",
              "Nigeria       380.0\n",
              "Venezuela     379.0\n",
              "Name: fatalities, dtype: float64"
            ]
          },
          "metadata": {},
          "execution_count": 114
        }
      ]
    },
    {
      "cell_type": "code",
      "source": [
        "countries_fatal_after2002.mean()"
      ],
      "metadata": {
        "colab": {
          "base_uri": "https://localhost:8080/"
        },
        "id": "L6AgV44kpiWX",
        "outputId": "e8d70e6a-7e23-4c63-e0bf-c24b50ee286a"
      },
      "execution_count": 115,
      "outputs": [
        {
          "output_type": "execute_result",
          "data": {
            "text/plain": [
              "72.35751295336787"
            ]
          },
          "metadata": {},
          "execution_count": 115
        }
      ]
    },
    {
      "cell_type": "code",
      "source": [
        "countries_fatal_82_02 = eleven_sept_82_02.loc[:,[\"country\", \"fatalities\"]]\n",
        "countries_fatal_82_02 = countries_fatal_82_02.groupby(\"country\")[\"fatalities\"].sum()\n",
        "countries_fatal_82_02 = countries_fatal_82_02.sort_values(ascending= False)"
      ],
      "metadata": {
        "id": "QpMH3kSUPE2T"
      },
      "execution_count": 116,
      "outputs": []
    },
    {
      "cell_type": "code",
      "source": [
        "countries_fatal_82_02.head(10)\n"
      ],
      "metadata": {
        "id": "4CxkR71RRyJA",
        "colab": {
          "base_uri": "https://localhost:8080/"
        },
        "outputId": "cd20a521-98eb-4472-81db-276b944ddc63"
      },
      "execution_count": 117,
      "outputs": [
        {
          "output_type": "execute_result",
          "data": {
            "text/plain": [
              "country\n",
              "USA               2499.0\n",
              "Russia            1923.0\n",
              "Colombia          1266.0\n",
              "China             1081.0\n",
              "Iran               935.0\n",
              "Atlantic Ocean     894.0\n",
              "India              871.0\n",
              "Indonesia          859.0\n",
              "Japan              844.0\n",
              "Angola             825.0\n",
              "Name: fatalities, dtype: float64"
            ]
          },
          "metadata": {},
          "execution_count": 117
        }
      ]
    },
    {
      "cell_type": "code",
      "source": [
        "countries_fatal_82_02.mean()"
      ],
      "metadata": {
        "colab": {
          "base_uri": "https://localhost:8080/"
        },
        "id": "qcM37KoTpcPZ",
        "outputId": "6e4e14bc-66d8-47d6-a12e-e59c72e006b3"
      },
      "execution_count": 118,
      "outputs": [
        {
          "output_type": "execute_result",
          "data": {
            "text/plain": [
              "152.57286432160805"
            ]
          },
          "metadata": {},
          "execution_count": 118
        }
      ]
    },
    {
      "cell_type": "markdown",
      "source": [
        "The USA has lost its lead in fatalities, and in general there are much fewer fatalities in plane crashes; but this last data can be influenced by technological progress."
      ],
      "metadata": {
        "id": "wpnu_K7fR8yD"
      }
    },
    {
      "cell_type": "markdown",
      "source": [
        "# Cartogramma"
      ],
      "metadata": {
        "id": "zjTc2bDuSEyb"
      }
    },
    {
      "cell_type": "code",
      "source": [
        "import geopandas as gpd\n",
        "from matplotlib.colors import Normalize\n",
        "from matplotlib.cm import ScalarMappable\n",
        "\n",
        "# Upload a dataset containing country borders\n",
        "world = gpd.read_file(gpd.datasets.get_path(\"naturalearth_lowres\"))\n",
        "\n",
        "# Calculate the number of accidents by country\n",
        "countries_counts = df_countries[\"country\"].value_counts()\n",
        "countries_counts = countries_counts.rename(index={\"USA\": \"United States of America\"})\n",
        "\n",
        "# Join world boundaries data based on \"name\" column\n",
        "world = world.merge(countries_counts, how=\"left\", left_on=\"name\", right_index=True)\n",
        "\n",
        "# Plot the world map\n",
        "fig, ax = plt.subplots(1, 1, figsize=(18, 10))\n",
        "\n",
        "# Normalize data to legend color\n",
        "norm = Normalize(vmin=world[\"count\"].min(), vmax=world[\"count\"].max())\n",
        "mapper = ScalarMappable(norm=norm, cmap=\"Reds\")\n",
        "\n",
        "# Plot the countries borders with colors based on number of accidents\n",
        "world.plot(column=\"count\", cmap=\"Reds\", linewidth=0.8, ax=ax, edgecolor=\"0.8\", legend=False, norm=norm)\n",
        "\n",
        "# Add a colored bar as a legend\n",
        "cbar = fig.colorbar(mapper, ax=ax, shrink=0.5)\n",
        "\n",
        "\n",
        "ax.set_title(\"Plane crashes by country since 1919\")\n",
        "ax.axis(\"off\")\n",
        "\n",
        "plt.show()"
      ],
      "metadata": {
        "id": "yLdqKCpOep2I",
        "colab": {
          "base_uri": "https://localhost:8080/",
          "height": 655
        },
        "outputId": "41b4ed1f-b3fa-4362-fcf0-6552fad54dff"
      },
      "execution_count": 145,
      "outputs": [
        {
          "output_type": "stream",
          "name": "stderr",
          "text": [
            "<ipython-input-145-f65a48073838>:6: FutureWarning: The geopandas.dataset module is deprecated and will be removed in GeoPandas 1.0. You can get the original 'naturalearth_lowres' data from https://www.naturalearthdata.com/downloads/110m-cultural-vectors/.\n",
            "  world = gpd.read_file(gpd.datasets.get_path(\"naturalearth_lowres\"))\n"
          ]
        },
        {
          "output_type": "display_data",
          "data": {
            "text/plain": [
              "<Figure size 1800x1000 with 2 Axes>"
            ],
            "image/png": "[encoded data removed]"
          },
          "metadata": {}
        }
      ]
    }
  ]
}